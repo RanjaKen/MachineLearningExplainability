{
 "cells": [
  {
   "cell_type": "markdown",
   "id": "77e7d932",
   "metadata": {
    "papermill": {
     "duration": 0.009797,
     "end_time": "2024-09-29T22:00:55.471909",
     "exception": false,
     "start_time": "2024-09-29T22:00:55.462112",
     "status": "completed"
    },
    "tags": []
   },
   "source": [
    "**This notebook is an exercise in the [Machine Learning Explainability](https://www.kaggle.com/learn/machine-learning-explainability) course.  You can reference the tutorial at [this link](https://www.kaggle.com/dansbecker/shap-values).**\n",
    "\n",
    "---\n"
   ]
  },
  {
   "cell_type": "markdown",
   "id": "10fed2f3",
   "metadata": {
    "papermill": {
     "duration": 0.009363,
     "end_time": "2024-09-29T22:00:55.490189",
     "exception": false,
     "start_time": "2024-09-29T22:00:55.480826",
     "status": "completed"
    },
    "tags": []
   },
   "source": [
    "## Set Up\n",
    "\n",
    "At this point, you have enough tools to put together compelling solutions to real-world problems. You will ned to pick the right techniques for each part of the following data science scenario. Along the way, you'll use SHAP values along with your other insights tools.\n",
    "\n",
    "**The questions below give you feedback on your work by using some checking code. Run the following cell to set up our feedback system.**"
   ]
  },
  {
   "cell_type": "code",
   "execution_count": 1,
   "id": "c40c6b5b",
   "metadata": {
    "execution": {
     "iopub.execute_input": "2024-09-29T22:00:55.510929Z",
     "iopub.status.busy": "2024-09-29T22:00:55.510338Z",
     "iopub.status.idle": "2024-09-29T22:01:24.189920Z",
     "shell.execute_reply": "2024-09-29T22:01:24.188148Z"
    },
    "papermill": {
     "duration": 28.693585,
     "end_time": "2024-09-29T22:01:24.193201",
     "exception": false,
     "start_time": "2024-09-29T22:00:55.499616",
     "status": "completed"
    },
    "tags": []
   },
   "outputs": [
    {
     "name": "stdout",
     "output_type": "stream",
     "text": [
      "Collecting git+https://github.com/Kaggle/learntools.git\r\n",
      "  Cloning https://github.com/Kaggle/learntools.git to /tmp/pip-req-build-6j_m8ki5\r\n",
      "  Running command git clone --filter=blob:none --quiet https://github.com/Kaggle/learntools.git /tmp/pip-req-build-6j_m8ki5\r\n",
      "  Resolved https://github.com/Kaggle/learntools.git to commit ca2a51ee0085e4943cadaf5e9fe7dce2ec947d3c\r\n",
      "  Preparing metadata (setup.py) ... \u001b[?25ldone\r\n",
      "\u001b[?25hBuilding wheels for collected packages: learntools\r\n",
      "  Building wheel for learntools (setup.py) ... \u001b[?25l-\b \bdone\r\n",
      "\u001b[?25h  Created wheel for learntools: filename=learntools-0.3.4-py3-none-any.whl size=268968 sha256=7f024a74cf711a33a886b0dcd322057066e7fd5c101f2297a75f1fbae7b0d45c\r\n",
      "  Stored in directory: /tmp/pip-ephem-wheel-cache-5bj06nan/wheels/2f/6c/3c/aa9f50cfb5a862157cb4c7a5b34881828cf45404698255dced\r\n",
      "Successfully built learntools\r\n",
      "Installing collected packages: learntools\r\n",
      "Successfully installed learntools-0.3.4\r\n",
      "Setup Complete\n"
     ]
    }
   ],
   "source": [
    "# Get most recent checking code\n",
    "!pip install -U -t /kaggle/working/ git+https://github.com/Kaggle/learntools.git\n",
    "from learntools.ml_explainability.ex4 import *\n",
    "print(\"Setup Complete\")"
   ]
  },
  {
   "cell_type": "markdown",
   "id": "e4f3e291",
   "metadata": {
    "papermill": {
     "duration": 0.009913,
     "end_time": "2024-09-29T22:01:24.213878",
     "exception": false,
     "start_time": "2024-09-29T22:01:24.203965",
     "status": "completed"
    },
    "tags": []
   },
   "source": [
    "## The Scenario\n",
    "A hospital has struggled with \"readmissions,\" where they release a patient before the patient has recovered enough, and the patient returns with health complications. \n",
    "\n",
    "The hospital wants your help identifying patients at highest risk of being readmitted. Doctors (rather than your model) will make the final decision about when to release each patient; but they hope your model will highlight issues the doctors should consider when releasing a patient.\n",
    "\n",
    "The hospital has given you relevant patient medical information.  Here is a list of columns in the data:\n"
   ]
  },
  {
   "cell_type": "code",
   "execution_count": 2,
   "id": "c257cfdd",
   "metadata": {
    "execution": {
     "iopub.execute_input": "2024-09-29T22:01:24.237296Z",
     "iopub.status.busy": "2024-09-29T22:01:24.236674Z",
     "iopub.status.idle": "2024-09-29T22:01:24.615515Z",
     "shell.execute_reply": "2024-09-29T22:01:24.614235Z"
    },
    "papermill": {
     "duration": 0.394004,
     "end_time": "2024-09-29T22:01:24.618124",
     "exception": false,
     "start_time": "2024-09-29T22:01:24.224120",
     "status": "completed"
    },
    "tags": []
   },
   "outputs": [
    {
     "data": {
      "text/plain": [
       "Index(['time_in_hospital', 'num_lab_procedures', 'num_procedures',\n",
       "       'num_medications', 'number_outpatient', 'number_emergency',\n",
       "       'number_inpatient', 'number_diagnoses', 'race_Caucasian',\n",
       "       'race_AfricanAmerican', 'gender_Female', 'age_[70-80)', 'age_[60-70)',\n",
       "       'age_[50-60)', 'age_[80-90)', 'age_[40-50)', 'payer_code_?',\n",
       "       'payer_code_MC', 'payer_code_HM', 'payer_code_SP', 'payer_code_BC',\n",
       "       'medical_specialty_?', 'medical_specialty_InternalMedicine',\n",
       "       'medical_specialty_Emergency/Trauma',\n",
       "       'medical_specialty_Family/GeneralPractice',\n",
       "       'medical_specialty_Cardiology', 'diag_1_428', 'diag_1_414',\n",
       "       'diag_1_786', 'diag_2_276', 'diag_2_428', 'diag_2_250', 'diag_2_427',\n",
       "       'diag_3_250', 'diag_3_401', 'diag_3_276', 'diag_3_428',\n",
       "       'max_glu_serum_None', 'A1Cresult_None', 'metformin_No',\n",
       "       'repaglinide_No', 'nateglinide_No', 'chlorpropamide_No',\n",
       "       'glimepiride_No', 'acetohexamide_No', 'glipizide_No', 'glyburide_No',\n",
       "       'tolbutamide_No', 'pioglitazone_No', 'rosiglitazone_No', 'acarbose_No',\n",
       "       'miglitol_No', 'troglitazone_No', 'tolazamide_No', 'examide_No',\n",
       "       'citoglipton_No', 'insulin_No', 'glyburide-metformin_No',\n",
       "       'glipizide-metformin_No', 'glimepiride-pioglitazone_No',\n",
       "       'metformin-rosiglitazone_No', 'metformin-pioglitazone_No', 'change_No',\n",
       "       'diabetesMed_Yes', 'readmitted'],\n",
       "      dtype='object')"
      ]
     },
     "execution_count": 2,
     "metadata": {},
     "output_type": "execute_result"
    }
   ],
   "source": [
    "import pandas as pd\n",
    "data = pd.read_csv('../input/hospital-readmissions/train.csv')\n",
    "data.columns"
   ]
  },
  {
   "cell_type": "markdown",
   "id": "6617c502",
   "metadata": {
    "papermill": {
     "duration": 0.009721,
     "end_time": "2024-09-29T22:01:24.637713",
     "exception": false,
     "start_time": "2024-09-29T22:01:24.627992",
     "status": "completed"
    },
    "tags": []
   },
   "source": [
    "Here are some quick hints at interpreting the field names:\n",
    "\n",
    "- Your prediction target is `readmitted`\n",
    "- Columns with the word `diag` indicate the diagnostic code of the illness or illnesses the patient was admitted with. For example, `diag_1_428` means the doctor said their first illness diagnosis is number \"428\".  What illness does 428 correspond to? You could look it up in a codebook, but without more medical background it wouldn't mean anything to you anyway.\n",
    "- A column names like `glimepiride_No` mean the patient did not have the medicine `glimepiride`. If this feature had a value of False, then the patient did take the drug `glimepiride`\n",
    "- Features whose names begin with `medical_specialty` describe the specialty of the doctor seeing the patient. The values in these fields are all `True` or `False`.\n"
   ]
  },
  {
   "cell_type": "markdown",
   "id": "73559430",
   "metadata": {
    "papermill": {
     "duration": 0.009432,
     "end_time": "2024-09-29T22:01:24.656907",
     "exception": false,
     "start_time": "2024-09-29T22:01:24.647475",
     "status": "completed"
    },
    "tags": []
   },
   "source": [
    "## Your Code Library\n",
    "As you write code to work through this scenario, these code snippets from previous tutorials may be useful. You'll still need to modify them, but we've copied them here to save you from having to look them up.\n",
    "\n",
    "**Calculate and show permutation importance:**\n",
    "```\n",
    "import eli5\n",
    "from eli5.sklearn import PermutationImportance\n",
    "\n",
    "perm = PermutationImportance(my_model, random_state=1).fit(val_X, val_y)\n",
    "eli5.show_weights(perm, feature_names = val_X.columns.tolist())\n",
    "```\n",
    "\n",
    "**Calculate and show partial dependence plot:**\n",
    "```\n",
    "from matplotlib import pyplot as plt\n",
    "from sklearn.inspection import PartialDependenceDisplay\n",
    "\n",
    "feature_name = 'Goal Scored'\n",
    "PartialDependenceDisplay.from_estimator(my_model, val_X, [feature_name])\n",
    "plt.show()\n",
    "```\n",
    "\n",
    "**Calculate and show Shap Values for One Prediction:**\n",
    "```\n",
    "import shap  # package used to calculate Shap values\n",
    "\n",
    "data_for_prediction = val_X.iloc[0,:]  # use 1 row of data here. Could use multiple rows if desired\n",
    "\n",
    "# Create object that can calculate shap values\n",
    "explainer = shap.TreeExplainer(my_model)\n",
    "shap_values = explainer.shap_values(data_for_prediction)\n",
    "shap.initjs()\n",
    "shap.force_plot(explainer.expected_value[0], shap_values[0], data_for_prediction)\n",
    "```\n",
    "\n",
    "## Step 1\n",
    "You have built a simple model, but the doctors say they don't know how to evaluate a model, and they'd like you to show them some evidence the model is doing something in line with their medical intuition. Create any graphics or tables that will show them a quick overview of what the model is doing?\n",
    "\n",
    "They are very busy. So they want you to condense your model overview into just 1 or 2 graphics, rather than a long string of graphics.\n",
    "\n",
    "We'll start after the point where you've built a basic model. Just run the following cell to build the model called `my_model`."
   ]
  },
  {
   "cell_type": "code",
   "execution_count": 3,
   "id": "9db52503",
   "metadata": {
    "execution": {
     "iopub.execute_input": "2024-09-29T22:01:24.678666Z",
     "iopub.status.busy": "2024-09-29T22:01:24.678196Z",
     "iopub.status.idle": "2024-09-29T22:01:28.312240Z",
     "shell.execute_reply": "2024-09-29T22:01:28.310838Z"
    },
    "papermill": {
     "duration": 3.648942,
     "end_time": "2024-09-29T22:01:28.315652",
     "exception": false,
     "start_time": "2024-09-29T22:01:24.666710",
     "status": "completed"
    },
    "tags": []
   },
   "outputs": [],
   "source": [
    "import pandas as pd\n",
    "from sklearn.ensemble import RandomForestClassifier\n",
    "from sklearn.model_selection import train_test_split\n",
    "\n",
    "data = pd.read_csv('../input/hospital-readmissions/train.csv')\n",
    "\n",
    "y = data.readmitted\n",
    "\n",
    "base_features = [c for c in data.columns if c != \"readmitted\"]\n",
    "\n",
    "X = data[base_features]\n",
    "\n",
    "train_X, val_X, train_y, val_y = train_test_split(X, y, random_state=1)\n",
    "my_model = RandomForestClassifier(n_estimators=30, random_state=1).fit(train_X, train_y)"
   ]
  },
  {
   "cell_type": "markdown",
   "id": "ec7f4481",
   "metadata": {
    "papermill": {
     "duration": 0.010558,
     "end_time": "2024-09-29T22:01:28.339586",
     "exception": false,
     "start_time": "2024-09-29T22:01:28.329028",
     "status": "completed"
    },
    "tags": []
   },
   "source": [
    "Now use the following cell to create the materials for the doctors."
   ]
  },
  {
   "cell_type": "code",
   "execution_count": 4,
   "id": "4bbd4ba8",
   "metadata": {
    "execution": {
     "iopub.execute_input": "2024-09-29T22:01:28.362636Z",
     "iopub.status.busy": "2024-09-29T22:01:28.362204Z",
     "iopub.status.idle": "2024-09-29T22:02:07.970756Z",
     "shell.execute_reply": "2024-09-29T22:02:07.969339Z"
    },
    "papermill": {
     "duration": 39.632769,
     "end_time": "2024-09-29T22:02:07.982791",
     "exception": false,
     "start_time": "2024-09-29T22:01:28.350022",
     "status": "completed"
    },
    "tags": []
   },
   "outputs": [
    {
     "data": {
      "text/html": [
       "\n",
       "    <style>\n",
       "    table.eli5-weights tr:hover {\n",
       "        filter: brightness(85%);\n",
       "    }\n",
       "</style>\n",
       "\n",
       "\n",
       "\n",
       "    \n",
       "\n",
       "    \n",
       "\n",
       "    \n",
       "\n",
       "    \n",
       "\n",
       "    \n",
       "\n",
       "    \n",
       "\n",
       "\n",
       "    \n",
       "\n",
       "    \n",
       "\n",
       "    \n",
       "\n",
       "    \n",
       "\n",
       "    \n",
       "\n",
       "    \n",
       "\n",
       "\n",
       "    \n",
       "\n",
       "    \n",
       "\n",
       "    \n",
       "\n",
       "    \n",
       "\n",
       "    \n",
       "        <table class=\"eli5-weights eli5-feature-importances\" style=\"border-collapse: collapse; border: none; margin-top: 0em; table-layout: auto;\">\n",
       "    <thead>\n",
       "    <tr style=\"border: none;\">\n",
       "        <th style=\"padding: 0 1em 0 0.5em; text-align: right; border: none;\">Weight</th>\n",
       "        <th style=\"padding: 0 0.5em 0 0.5em; text-align: left; border: none;\">Feature</th>\n",
       "    </tr>\n",
       "    </thead>\n",
       "    <tbody>\n",
       "    \n",
       "        <tr style=\"background-color: hsl(120, 100.00%, 80.00%); border: none;\">\n",
       "            <td style=\"padding: 0 1em 0 0.5em; text-align: right; border: none;\">\n",
       "                0.0451\n",
       "                \n",
       "                    &plusmn; 0.0068\n",
       "                \n",
       "            </td>\n",
       "            <td style=\"padding: 0 0.5em 0 0.5em; text-align: left; border: none;\">\n",
       "                number_inpatient\n",
       "            </td>\n",
       "        </tr>\n",
       "    \n",
       "        <tr style=\"background-color: hsl(120, 100.00%, 93.66%); border: none;\">\n",
       "            <td style=\"padding: 0 1em 0 0.5em; text-align: right; border: none;\">\n",
       "                0.0087\n",
       "                \n",
       "                    &plusmn; 0.0046\n",
       "                \n",
       "            </td>\n",
       "            <td style=\"padding: 0 0.5em 0 0.5em; text-align: left; border: none;\">\n",
       "                number_emergency\n",
       "            </td>\n",
       "        </tr>\n",
       "    \n",
       "        <tr style=\"background-color: hsl(120, 100.00%, 95.01%); border: none;\">\n",
       "            <td style=\"padding: 0 1em 0 0.5em; text-align: right; border: none;\">\n",
       "                0.0062\n",
       "                \n",
       "                    &plusmn; 0.0053\n",
       "                \n",
       "            </td>\n",
       "            <td style=\"padding: 0 0.5em 0 0.5em; text-align: left; border: none;\">\n",
       "                number_outpatient\n",
       "            </td>\n",
       "        </tr>\n",
       "    \n",
       "        <tr style=\"background-color: hsl(120, 100.00%, 96.82%); border: none;\">\n",
       "            <td style=\"padding: 0 1em 0 0.5em; text-align: right; border: none;\">\n",
       "                0.0033\n",
       "                \n",
       "                    &plusmn; 0.0016\n",
       "                \n",
       "            </td>\n",
       "            <td style=\"padding: 0 0.5em 0 0.5em; text-align: left; border: none;\">\n",
       "                payer_code_MC\n",
       "            </td>\n",
       "        </tr>\n",
       "    \n",
       "        <tr style=\"background-color: hsl(120, 100.00%, 97.70%); border: none;\">\n",
       "            <td style=\"padding: 0 1em 0 0.5em; text-align: right; border: none;\">\n",
       "                0.0020\n",
       "                \n",
       "                    &plusmn; 0.0016\n",
       "                \n",
       "            </td>\n",
       "            <td style=\"padding: 0 0.5em 0 0.5em; text-align: left; border: none;\">\n",
       "                diag_3_401\n",
       "            </td>\n",
       "        </tr>\n",
       "    \n",
       "        <tr style=\"background-color: hsl(120, 100.00%, 98.09%); border: none;\">\n",
       "            <td style=\"padding: 0 1em 0 0.5em; text-align: right; border: none;\">\n",
       "                0.0016\n",
       "                \n",
       "                    &plusmn; 0.0031\n",
       "                \n",
       "            </td>\n",
       "            <td style=\"padding: 0 0.5em 0 0.5em; text-align: left; border: none;\">\n",
       "                medical_specialty_Emergency/Trauma\n",
       "            </td>\n",
       "        </tr>\n",
       "    \n",
       "        <tr style=\"background-color: hsl(120, 100.00%, 98.21%); border: none;\">\n",
       "            <td style=\"padding: 0 1em 0 0.5em; text-align: right; border: none;\">\n",
       "                0.0014\n",
       "                \n",
       "                    &plusmn; 0.0024\n",
       "                \n",
       "            </td>\n",
       "            <td style=\"padding: 0 0.5em 0 0.5em; text-align: left; border: none;\">\n",
       "                A1Cresult_None\n",
       "            </td>\n",
       "        </tr>\n",
       "    \n",
       "        <tr style=\"background-color: hsl(120, 100.00%, 98.23%); border: none;\">\n",
       "            <td style=\"padding: 0 1em 0 0.5em; text-align: right; border: none;\">\n",
       "                0.0014\n",
       "                \n",
       "                    &plusmn; 0.0021\n",
       "                \n",
       "            </td>\n",
       "            <td style=\"padding: 0 0.5em 0 0.5em; text-align: left; border: none;\">\n",
       "                medical_specialty_Family/GeneralPractice\n",
       "            </td>\n",
       "        </tr>\n",
       "    \n",
       "        <tr style=\"background-color: hsl(120, 100.00%, 98.35%); border: none;\">\n",
       "            <td style=\"padding: 0 1em 0 0.5em; text-align: right; border: none;\">\n",
       "                0.0013\n",
       "                \n",
       "                    &plusmn; 0.0010\n",
       "                \n",
       "            </td>\n",
       "            <td style=\"padding: 0 0.5em 0 0.5em; text-align: left; border: none;\">\n",
       "                diag_2_427\n",
       "            </td>\n",
       "        </tr>\n",
       "    \n",
       "        <tr style=\"background-color: hsl(120, 100.00%, 98.35%); border: none;\">\n",
       "            <td style=\"padding: 0 1em 0 0.5em; text-align: right; border: none;\">\n",
       "                0.0013\n",
       "                \n",
       "                    &plusmn; 0.0011\n",
       "                \n",
       "            </td>\n",
       "            <td style=\"padding: 0 0.5em 0 0.5em; text-align: left; border: none;\">\n",
       "                diag_2_276\n",
       "            </td>\n",
       "        </tr>\n",
       "    \n",
       "        <tr style=\"background-color: hsl(120, 100.00%, 98.56%); border: none;\">\n",
       "            <td style=\"padding: 0 1em 0 0.5em; text-align: right; border: none;\">\n",
       "                0.0011\n",
       "                \n",
       "                    &plusmn; 0.0022\n",
       "                \n",
       "            </td>\n",
       "            <td style=\"padding: 0 0.5em 0 0.5em; text-align: left; border: none;\">\n",
       "                age_[50-60)\n",
       "            </td>\n",
       "        </tr>\n",
       "    \n",
       "        <tr style=\"background-color: hsl(120, 100.00%, 98.62%); border: none;\">\n",
       "            <td style=\"padding: 0 1em 0 0.5em; text-align: right; border: none;\">\n",
       "                0.0010\n",
       "                \n",
       "                    &plusmn; 0.0022\n",
       "                \n",
       "            </td>\n",
       "            <td style=\"padding: 0 0.5em 0 0.5em; text-align: left; border: none;\">\n",
       "                age_[80-90)\n",
       "            </td>\n",
       "        </tr>\n",
       "    \n",
       "        <tr style=\"background-color: hsl(120, 100.00%, 98.88%); border: none;\">\n",
       "            <td style=\"padding: 0 1em 0 0.5em; text-align: right; border: none;\">\n",
       "                0.0007\n",
       "                \n",
       "                    &plusmn; 0.0006\n",
       "                \n",
       "            </td>\n",
       "            <td style=\"padding: 0 0.5em 0 0.5em; text-align: left; border: none;\">\n",
       "                repaglinide_No\n",
       "            </td>\n",
       "        </tr>\n",
       "    \n",
       "        <tr style=\"background-color: hsl(120, 100.00%, 99.02%); border: none;\">\n",
       "            <td style=\"padding: 0 1em 0 0.5em; text-align: right; border: none;\">\n",
       "                0.0006\n",
       "                \n",
       "                    &plusmn; 0.0010\n",
       "                \n",
       "            </td>\n",
       "            <td style=\"padding: 0 0.5em 0 0.5em; text-align: left; border: none;\">\n",
       "                diag_1_428\n",
       "            </td>\n",
       "        </tr>\n",
       "    \n",
       "        <tr style=\"background-color: hsl(120, 100.00%, 99.05%); border: none;\">\n",
       "            <td style=\"padding: 0 1em 0 0.5em; text-align: right; border: none;\">\n",
       "                0.0006\n",
       "                \n",
       "                    &plusmn; 0.0022\n",
       "                \n",
       "            </td>\n",
       "            <td style=\"padding: 0 0.5em 0 0.5em; text-align: left; border: none;\">\n",
       "                payer_code_SP\n",
       "            </td>\n",
       "        </tr>\n",
       "    \n",
       "        <tr style=\"background-color: hsl(120, 100.00%, 99.17%); border: none;\">\n",
       "            <td style=\"padding: 0 1em 0 0.5em; text-align: right; border: none;\">\n",
       "                0.0005\n",
       "                \n",
       "                    &plusmn; 0.0030\n",
       "                \n",
       "            </td>\n",
       "            <td style=\"padding: 0 0.5em 0 0.5em; text-align: left; border: none;\">\n",
       "                insulin_No\n",
       "            </td>\n",
       "        </tr>\n",
       "    \n",
       "        <tr style=\"background-color: hsl(120, 100.00%, 99.25%); border: none;\">\n",
       "            <td style=\"padding: 0 1em 0 0.5em; text-align: right; border: none;\">\n",
       "                0.0004\n",
       "                \n",
       "                    &plusmn; 0.0028\n",
       "                \n",
       "            </td>\n",
       "            <td style=\"padding: 0 0.5em 0 0.5em; text-align: left; border: none;\">\n",
       "                diabetesMed_Yes\n",
       "            </td>\n",
       "        </tr>\n",
       "    \n",
       "        <tr style=\"background-color: hsl(120, 100.00%, 99.33%); border: none;\">\n",
       "            <td style=\"padding: 0 1em 0 0.5em; text-align: right; border: none;\">\n",
       "                0.0004\n",
       "                \n",
       "                    &plusmn; 0.0021\n",
       "                \n",
       "            </td>\n",
       "            <td style=\"padding: 0 0.5em 0 0.5em; text-align: left; border: none;\">\n",
       "                diag_3_250\n",
       "            </td>\n",
       "        </tr>\n",
       "    \n",
       "        <tr style=\"background-color: hsl(120, 100.00%, 99.37%); border: none;\">\n",
       "            <td style=\"padding: 0 1em 0 0.5em; text-align: right; border: none;\">\n",
       "                0.0003\n",
       "                \n",
       "                    &plusmn; 0.0018\n",
       "                \n",
       "            </td>\n",
       "            <td style=\"padding: 0 0.5em 0 0.5em; text-align: left; border: none;\">\n",
       "                diag_2_250\n",
       "            </td>\n",
       "        </tr>\n",
       "    \n",
       "        <tr style=\"background-color: hsl(120, 100.00%, 99.46%); border: none;\">\n",
       "            <td style=\"padding: 0 1em 0 0.5em; text-align: right; border: none;\">\n",
       "                0.0003\n",
       "                \n",
       "                    &plusmn; 0.0015\n",
       "                \n",
       "            </td>\n",
       "            <td style=\"padding: 0 0.5em 0 0.5em; text-align: left; border: none;\">\n",
       "                glipizide_No\n",
       "            </td>\n",
       "        </tr>\n",
       "    \n",
       "    \n",
       "        \n",
       "            <tr style=\"background-color: hsl(120, 100.00%, 99.46%); border: none;\">\n",
       "                <td colspan=\"2\" style=\"padding: 0 0.5em 0 0.5em; text-align: center; border: none; white-space: nowrap;\">\n",
       "                    <i>&hellip; 44 more &hellip;</i>\n",
       "                </td>\n",
       "            </tr>\n",
       "        \n",
       "    \n",
       "    </tbody>\n",
       "</table>\n",
       "    \n",
       "\n",
       "    \n",
       "\n",
       "\n",
       "    \n",
       "\n",
       "    \n",
       "\n",
       "    \n",
       "\n",
       "    \n",
       "\n",
       "    \n",
       "\n",
       "    \n",
       "\n",
       "\n",
       "\n"
      ],
      "text/plain": [
       "<IPython.core.display.HTML object>"
      ]
     },
     "execution_count": 4,
     "metadata": {},
     "output_type": "execute_result"
    }
   ],
   "source": [
    "# Your code here\n",
    "import eli5\n",
    "from eli5.sklearn import PermutationImportance\n",
    "\n",
    "perm= PermutationImportance(my_model, random_state=1).fit(val_X, val_y)\n",
    "eli5.show_weights(perm, feature_names= val_X.columns.tolist())"
   ]
  },
  {
   "cell_type": "markdown",
   "id": "cd223a0a",
   "metadata": {
    "papermill": {
     "duration": 0.010087,
     "end_time": "2024-09-29T22:02:08.003328",
     "exception": false,
     "start_time": "2024-09-29T22:02:07.993241",
     "status": "completed"
    },
    "tags": []
   },
   "source": [
    "For our idea of what to show, run the cell below.  "
   ]
  },
  {
   "cell_type": "code",
   "execution_count": 5,
   "id": "025531fe",
   "metadata": {
    "execution": {
     "iopub.execute_input": "2024-09-29T22:02:08.028214Z",
     "iopub.status.busy": "2024-09-29T22:02:08.027172Z",
     "iopub.status.idle": "2024-09-29T22:02:08.039985Z",
     "shell.execute_reply": "2024-09-29T22:02:08.038182Z"
    },
    "papermill": {
     "duration": 0.02853,
     "end_time": "2024-09-29T22:02:08.042856",
     "exception": false,
     "start_time": "2024-09-29T22:02:08.014326",
     "status": "completed"
    },
    "tags": []
   },
   "outputs": [
    {
     "data": {
      "application/javascript": [
       "parent.postMessage({\"jupyterEvent\": \"custom.exercise_interaction\", \"data\": {\"interactionType\": 3, \"questionType\": 4, \"questionId\": \"1_SummarizeModel\", \"learnToolsVersion\": \"0.3.4\", \"valueTowardsCompletion\": 0.0, \"failureMessage\": \"\", \"exceptionClass\": \"\", \"trace\": \"\", \"outcomeType\": 4}}, \"*\")"
      ],
      "text/plain": [
       "<IPython.core.display.Javascript object>"
      ]
     },
     "metadata": {},
     "output_type": "display_data"
    },
    {
     "data": {
      "text/markdown": [
       "<span style=\"color:#33cc99\">Solution:</span> \n",
       "```python\n",
       "\n",
       "# Use permutation importance as a succinct model summary\n",
       "# A measure of model performance on validation data would be useful here too\n",
       "\n",
       "import eli5\n",
       "from eli5.sklearn import PermutationImportance\n",
       "\n",
       "perm = PermutationImportance(my_model, random_state=1).fit(val_X, val_y)\n",
       "eli5.show_weights(perm, feature_names = val_X.columns.tolist())\n",
       "\n",
       "```"
      ],
      "text/plain": [
       "Solution: \n",
       "```python\n",
       "\n",
       "# Use permutation importance as a succinct model summary\n",
       "# A measure of model performance on validation data would be useful here too\n",
       "\n",
       "import eli5\n",
       "from eli5.sklearn import PermutationImportance\n",
       "\n",
       "perm = PermutationImportance(my_model, random_state=1).fit(val_X, val_y)\n",
       "eli5.show_weights(perm, feature_names = val_X.columns.tolist())\n",
       "\n",
       "```"
      ]
     },
     "metadata": {},
     "output_type": "display_data"
    }
   ],
   "source": [
    "# Run this code cell to receive credit!\n",
    "q_1.solution()"
   ]
  },
  {
   "cell_type": "markdown",
   "id": "745eadf2",
   "metadata": {
    "papermill": {
     "duration": 0.011533,
     "end_time": "2024-09-29T22:02:08.065397",
     "exception": false,
     "start_time": "2024-09-29T22:02:08.053864",
     "status": "completed"
    },
    "tags": []
   },
   "source": [
    "If you'd like to discuss your approach or see what others have done, we have a discussion forum [here](https://www.kaggle.com/learn-forum/66267#latest-390149).\n",
    "\n"
   ]
  },
  {
   "cell_type": "markdown",
   "id": "672c75ad",
   "metadata": {
    "papermill": {
     "duration": 0.011141,
     "end_time": "2024-09-29T22:02:08.087496",
     "exception": false,
     "start_time": "2024-09-29T22:02:08.076355",
     "status": "completed"
    },
    "tags": []
   },
   "source": [
    "## Step 2\n",
    "\n",
    "It appears `number_inpatient` is a really important feature. The doctors would like to know more about that. Create a graph for them that shows how `num_inpatient` affects the model's predictions."
   ]
  },
  {
   "cell_type": "code",
   "execution_count": 6,
   "id": "88476087",
   "metadata": {
    "execution": {
     "iopub.execute_input": "2024-09-29T22:02:08.112123Z",
     "iopub.status.busy": "2024-09-29T22:02:08.111609Z",
     "iopub.status.idle": "2024-09-29T22:02:08.120314Z",
     "shell.execute_reply": "2024-09-29T22:02:08.118737Z"
    },
    "papermill": {
     "duration": 0.024683,
     "end_time": "2024-09-29T22:02:08.122948",
     "exception": false,
     "start_time": "2024-09-29T22:02:08.098265",
     "status": "completed"
    },
    "tags": []
   },
   "outputs": [
    {
     "data": {
      "text/markdown": [],
      "text/plain": [
       "<learntools.core.constants.PlaceholderValue at 0x7d3c97c2bf10>"
      ]
     },
     "execution_count": 6,
     "metadata": {},
     "output_type": "execute_result"
    }
   ],
   "source": [
    "# Your Code Here\n",
    "____"
   ]
  },
  {
   "cell_type": "markdown",
   "id": "53d362ae",
   "metadata": {
    "papermill": {
     "duration": 0.010677,
     "end_time": "2024-09-29T22:02:08.144600",
     "exception": false,
     "start_time": "2024-09-29T22:02:08.133923",
     "status": "completed"
    },
    "tags": []
   },
   "source": [
    "For our solution, run the line below."
   ]
  },
  {
   "cell_type": "code",
   "execution_count": 7,
   "id": "5a78163f",
   "metadata": {
    "execution": {
     "iopub.execute_input": "2024-09-29T22:02:08.170689Z",
     "iopub.status.busy": "2024-09-29T22:02:08.170245Z",
     "iopub.status.idle": "2024-09-29T22:02:08.180463Z",
     "shell.execute_reply": "2024-09-29T22:02:08.179321Z"
    },
    "papermill": {
     "duration": 0.026177,
     "end_time": "2024-09-29T22:02:08.183117",
     "exception": false,
     "start_time": "2024-09-29T22:02:08.156940",
     "status": "completed"
    },
    "tags": []
   },
   "outputs": [
    {
     "data": {
      "application/javascript": [
       "parent.postMessage({\"jupyterEvent\": \"custom.exercise_interaction\", \"data\": {\"interactionType\": 3, \"questionType\": 4, \"questionId\": \"2_EffectNumInpatient\", \"learnToolsVersion\": \"0.3.4\", \"valueTowardsCompletion\": 0.0, \"failureMessage\": \"\", \"exceptionClass\": \"\", \"trace\": \"\", \"outcomeType\": 4}}, \"*\")"
      ],
      "text/plain": [
       "<IPython.core.display.Javascript object>"
      ]
     },
     "metadata": {},
     "output_type": "display_data"
    },
    {
     "data": {
      "text/markdown": [
       "<span style=\"color:#33cc99\">Solution:</span> \n",
       "```python\n",
       "\n",
       "# PDP for number_inpatient feature\n",
       "\n",
       "from matplotlib import pyplot as plt\n",
       "from sklearn.inspection import PartialDependenceDisplay\n",
       "\n",
       "feature_name = 'number_inpatient'\n",
       "PartialDependenceDisplay.from_estimator(my_model, val_X, [feature_name])\n",
       "plt.show()\n",
       "\n",
       "```"
      ],
      "text/plain": [
       "Solution: \n",
       "```python\n",
       "\n",
       "# PDP for number_inpatient feature\n",
       "\n",
       "from matplotlib import pyplot as plt\n",
       "from sklearn.inspection import PartialDependenceDisplay\n",
       "\n",
       "feature_name = 'number_inpatient'\n",
       "PartialDependenceDisplay.from_estimator(my_model, val_X, [feature_name])\n",
       "plt.show()\n",
       "\n",
       "```"
      ]
     },
     "metadata": {},
     "output_type": "display_data"
    }
   ],
   "source": [
    "# Check your answer (Run this code cell to receive credit!)\n",
    "q_2.solution()"
   ]
  },
  {
   "cell_type": "markdown",
   "id": "43c88bf5",
   "metadata": {
    "papermill": {
     "duration": 0.011292,
     "end_time": "2024-09-29T22:02:08.205898",
     "exception": false,
     "start_time": "2024-09-29T22:02:08.194606",
     "status": "completed"
    },
    "tags": []
   },
   "source": [
    "## Step 3\n",
    "\n",
    "The doctors think it's a good sign that increasing the number of inpatient procedures leads to increased predictions.  But they can't tell from this plot whether that change in the plot is big or small. They'd like you to create something similar for `time_in_hospital` to see how that compares."
   ]
  },
  {
   "cell_type": "code",
   "execution_count": 8,
   "id": "b923ea5e",
   "metadata": {
    "execution": {
     "iopub.execute_input": "2024-09-29T22:02:08.231515Z",
     "iopub.status.busy": "2024-09-29T22:02:08.231039Z",
     "iopub.status.idle": "2024-09-29T22:02:08.240109Z",
     "shell.execute_reply": "2024-09-29T22:02:08.238702Z"
    },
    "papermill": {
     "duration": 0.026022,
     "end_time": "2024-09-29T22:02:08.243427",
     "exception": false,
     "start_time": "2024-09-29T22:02:08.217405",
     "status": "completed"
    },
    "tags": []
   },
   "outputs": [
    {
     "data": {
      "text/markdown": [],
      "text/plain": [
       "<learntools.core.constants.PlaceholderValue at 0x7d3c97c2bf10>"
      ]
     },
     "execution_count": 8,
     "metadata": {},
     "output_type": "execute_result"
    }
   ],
   "source": [
    "# Your Code Here\n",
    "____"
   ]
  },
  {
   "cell_type": "markdown",
   "id": "c9ae4be2",
   "metadata": {
    "papermill": {
     "duration": 0.011409,
     "end_time": "2024-09-29T22:02:08.266654",
     "exception": false,
     "start_time": "2024-09-29T22:02:08.255245",
     "status": "completed"
    },
    "tags": []
   },
   "source": [
    "Uncomment the relevant line below to see one solution."
   ]
  },
  {
   "cell_type": "code",
   "execution_count": 9,
   "id": "a3d40c83",
   "metadata": {
    "execution": {
     "iopub.execute_input": "2024-09-29T22:02:08.292636Z",
     "iopub.status.busy": "2024-09-29T22:02:08.291559Z",
     "iopub.status.idle": "2024-09-29T22:02:08.302317Z",
     "shell.execute_reply": "2024-09-29T22:02:08.300940Z"
    },
    "papermill": {
     "duration": 0.026312,
     "end_time": "2024-09-29T22:02:08.304774",
     "exception": false,
     "start_time": "2024-09-29T22:02:08.278462",
     "status": "completed"
    },
    "tags": []
   },
   "outputs": [
    {
     "data": {
      "application/javascript": [
       "parent.postMessage({\"jupyterEvent\": \"custom.exercise_interaction\", \"data\": {\"interactionType\": 3, \"questionType\": 4, \"questionId\": \"3_EffectTimeInHospital\", \"learnToolsVersion\": \"0.3.4\", \"valueTowardsCompletion\": 0.0, \"failureMessage\": \"\", \"exceptionClass\": \"\", \"trace\": \"\", \"outcomeType\": 4}}, \"*\")"
      ],
      "text/plain": [
       "<IPython.core.display.Javascript object>"
      ]
     },
     "metadata": {},
     "output_type": "display_data"
    },
    {
     "data": {
      "text/markdown": [
       "<span style=\"color:#33cc99\">Solution:</span> \n",
       "The results are very different. Specifically time in hospital has a much smaller effect. Code below:\n",
       "\n",
       "    from matplotlib import pyplot as plt\n",
       "    from sklearn.inspection import PartialDependenceDisplay\n",
       "\n",
       "    feature_name = 'time_in_hospital'\n",
       "    PartialDependenceDisplay.from_estimator(my_model, val_X, [feature_name])\n",
       "    plt.show()\n"
      ],
      "text/plain": [
       "Solution: \n",
       "The results are very different. Specifically time in hospital has a much smaller effect. Code below:\n",
       "\n",
       "    from matplotlib import pyplot as plt\n",
       "    from sklearn.inspection import PartialDependenceDisplay\n",
       "\n",
       "    feature_name = 'time_in_hospital'\n",
       "    PartialDependenceDisplay.from_estimator(my_model, val_X, [feature_name])\n",
       "    plt.show()"
      ]
     },
     "metadata": {},
     "output_type": "display_data"
    }
   ],
   "source": [
    "# Check your answer (Run this code cell to receive credit!)\n",
    "q_3.solution()"
   ]
  },
  {
   "cell_type": "markdown",
   "id": "f3b6ad33",
   "metadata": {
    "papermill": {
     "duration": 0.011685,
     "end_time": "2024-09-29T22:02:08.328540",
     "exception": false,
     "start_time": "2024-09-29T22:02:08.316855",
     "status": "completed"
    },
    "tags": []
   },
   "source": [
    "## Step 4\n",
    "\n",
    "Woah!  It seems like `time_in_hospital` doesn't matter at all.  The difference between the lowest value on the partial dependence plot and the highest value is about 5%.\n",
    "\n",
    "If that is what your model concluded, the doctors will believe it. But it seems so low. Could  the data be wrong, or is your model doing something more complex than they expect?  \n",
    "\n",
    "They'd like you to show them the raw readmission rate for each value of `time_in_hospital` to see how it compares to the partial dependence plot.\n",
    "\n",
    "- Make that plot. \n",
    "- Are the results similar or different?"
   ]
  },
  {
   "cell_type": "code",
   "execution_count": 10,
   "id": "9d4b25e3",
   "metadata": {
    "execution": {
     "iopub.execute_input": "2024-09-29T22:02:08.354741Z",
     "iopub.status.busy": "2024-09-29T22:02:08.354183Z",
     "iopub.status.idle": "2024-09-29T22:02:08.362186Z",
     "shell.execute_reply": "2024-09-29T22:02:08.360810Z"
    },
    "papermill": {
     "duration": 0.024438,
     "end_time": "2024-09-29T22:02:08.365060",
     "exception": false,
     "start_time": "2024-09-29T22:02:08.340622",
     "status": "completed"
    },
    "tags": []
   },
   "outputs": [
    {
     "data": {
      "text/markdown": [],
      "text/plain": [
       "<learntools.core.constants.PlaceholderValue at 0x7d3c97c2bf10>"
      ]
     },
     "execution_count": 10,
     "metadata": {},
     "output_type": "execute_result"
    }
   ],
   "source": [
    "# Your Code Here\n",
    "____"
   ]
  },
  {
   "cell_type": "markdown",
   "id": "b2cbc3b0",
   "metadata": {
    "papermill": {
     "duration": 0.012589,
     "end_time": "2024-09-29T22:02:08.390452",
     "exception": false,
     "start_time": "2024-09-29T22:02:08.377863",
     "status": "completed"
    },
    "tags": []
   },
   "source": [
    "For a hint, uncomment the line below."
   ]
  },
  {
   "cell_type": "code",
   "execution_count": 11,
   "id": "2aa8cfe6",
   "metadata": {
    "execution": {
     "iopub.execute_input": "2024-09-29T22:02:08.417460Z",
     "iopub.status.busy": "2024-09-29T22:02:08.416980Z",
     "iopub.status.idle": "2024-09-29T22:02:08.423134Z",
     "shell.execute_reply": "2024-09-29T22:02:08.421736Z"
    },
    "papermill": {
     "duration": 0.022708,
     "end_time": "2024-09-29T22:02:08.425880",
     "exception": false,
     "start_time": "2024-09-29T22:02:08.403172",
     "status": "completed"
    },
    "tags": []
   },
   "outputs": [],
   "source": [
    "# q_4.hint()"
   ]
  },
  {
   "cell_type": "code",
   "execution_count": 12,
   "id": "0154fa81",
   "metadata": {
    "execution": {
     "iopub.execute_input": "2024-09-29T22:02:08.453096Z",
     "iopub.status.busy": "2024-09-29T22:02:08.452629Z",
     "iopub.status.idle": "2024-09-29T22:02:08.463267Z",
     "shell.execute_reply": "2024-09-29T22:02:08.462057Z"
    },
    "papermill": {
     "duration": 0.027128,
     "end_time": "2024-09-29T22:02:08.465803",
     "exception": false,
     "start_time": "2024-09-29T22:02:08.438675",
     "status": "completed"
    },
    "tags": []
   },
   "outputs": [
    {
     "data": {
      "application/javascript": [
       "parent.postMessage({\"jupyterEvent\": \"custom.exercise_interaction\", \"data\": {\"interactionType\": 3, \"questionType\": 4, \"questionId\": \"4_RawActualsInsteadOfPDP\", \"learnToolsVersion\": \"0.3.4\", \"valueTowardsCompletion\": 0.0, \"failureMessage\": \"\", \"exceptionClass\": \"\", \"trace\": \"\", \"outcomeType\": 4}}, \"*\")"
      ],
      "text/plain": [
       "<IPython.core.display.Javascript object>"
      ]
     },
     "metadata": {},
     "output_type": "display_data"
    },
    {
     "data": {
      "text/markdown": [
       "<span style=\"color:#33cc99\">Solution:</span> \n",
       "```python\n",
       "\n",
       "# A simple pandas groupby showing the average readmission rate for each time_in_hospital.\n",
       "\n",
       "# Do concat to keep validation data separate, rather than using all original data\n",
       "all_train = pd.concat([train_X, train_y], axis=1)\n",
       "\n",
       "all_train.groupby(['time_in_hospital']).mean().readmitted.plot()\n",
       "plt.show()\n",
       "\n",
       "```"
      ],
      "text/plain": [
       "Solution: \n",
       "```python\n",
       "\n",
       "# A simple pandas groupby showing the average readmission rate for each time_in_hospital.\n",
       "\n",
       "# Do concat to keep validation data separate, rather than using all original data\n",
       "all_train = pd.concat([train_X, train_y], axis=1)\n",
       "\n",
       "all_train.groupby(['time_in_hospital']).mean().readmitted.plot()\n",
       "plt.show()\n",
       "\n",
       "```"
      ]
     },
     "metadata": {},
     "output_type": "display_data"
    }
   ],
   "source": [
    "# Check your answer (Run this code cell to receive credit!)\n",
    "q_4.solution()"
   ]
  },
  {
   "cell_type": "markdown",
   "id": "2709b064",
   "metadata": {
    "papermill": {
     "duration": 0.012374,
     "end_time": "2024-09-29T22:02:08.491062",
     "exception": false,
     "start_time": "2024-09-29T22:02:08.478688",
     "status": "completed"
    },
    "tags": []
   },
   "source": [
    "## Step 5\n",
    "Now the doctors are convinced you have the right data, and the model overview looked reasonable.  It's time to turn this into a finished product they can use. Specifically, the hospital wants you to create a function `patient_risk_factors` that does the following\n",
    "- Takes a single row with patient data (of the same format you as your raw data)\n",
    "- Creates a visualization showing what features of that patient increased their risk of readmission, what features decreased it, and how much those features mattered.\n",
    "\n",
    "It's not important to show every feature with every miniscule impact on the readmission risk.  It's fine to focus on only the most important features for that patient."
   ]
  },
  {
   "cell_type": "code",
   "execution_count": 13,
   "id": "6c80f327",
   "metadata": {
    "execution": {
     "iopub.execute_input": "2024-09-29T22:02:08.518978Z",
     "iopub.status.busy": "2024-09-29T22:02:08.518094Z",
     "iopub.status.idle": "2024-09-29T22:02:08.525582Z",
     "shell.execute_reply": "2024-09-29T22:02:08.524412Z"
    },
    "papermill": {
     "duration": 0.024226,
     "end_time": "2024-09-29T22:02:08.528131",
     "exception": false,
     "start_time": "2024-09-29T22:02:08.503905",
     "status": "completed"
    },
    "tags": []
   },
   "outputs": [
    {
     "data": {
      "text/markdown": [],
      "text/plain": [
       "<learntools.core.constants.PlaceholderValue at 0x7d3c97c2bf10>"
      ]
     },
     "execution_count": 13,
     "metadata": {},
     "output_type": "execute_result"
    }
   ],
   "source": [
    "# Your Code Here\n",
    "____"
   ]
  },
  {
   "cell_type": "markdown",
   "id": "88f02cac",
   "metadata": {
    "papermill": {
     "duration": 0.012722,
     "end_time": "2024-09-29T22:02:08.554015",
     "exception": false,
     "start_time": "2024-09-29T22:02:08.541293",
     "status": "completed"
    },
    "tags": []
   },
   "source": [
    "For a hint, uncomment the line below."
   ]
  },
  {
   "cell_type": "code",
   "execution_count": 14,
   "id": "f8e5b87a",
   "metadata": {
    "execution": {
     "iopub.execute_input": "2024-09-29T22:02:08.582200Z",
     "iopub.status.busy": "2024-09-29T22:02:08.581724Z",
     "iopub.status.idle": "2024-09-29T22:02:08.587078Z",
     "shell.execute_reply": "2024-09-29T22:02:08.585839Z"
    },
    "papermill": {
     "duration": 0.022638,
     "end_time": "2024-09-29T22:02:08.589837",
     "exception": false,
     "start_time": "2024-09-29T22:02:08.567199",
     "status": "completed"
    },
    "tags": []
   },
   "outputs": [],
   "source": [
    "# q_5.hint()"
   ]
  },
  {
   "cell_type": "code",
   "execution_count": 15,
   "id": "b5cdf858",
   "metadata": {
    "execution": {
     "iopub.execute_input": "2024-09-29T22:02:08.618987Z",
     "iopub.status.busy": "2024-09-29T22:02:08.618521Z",
     "iopub.status.idle": "2024-09-29T22:02:08.629151Z",
     "shell.execute_reply": "2024-09-29T22:02:08.627869Z"
    },
    "papermill": {
     "duration": 0.028319,
     "end_time": "2024-09-29T22:02:08.631805",
     "exception": false,
     "start_time": "2024-09-29T22:02:08.603486",
     "status": "completed"
    },
    "tags": []
   },
   "outputs": [
    {
     "data": {
      "application/javascript": [
       "parent.postMessage({\"jupyterEvent\": \"custom.exercise_interaction\", \"data\": {\"interactionType\": 3, \"questionType\": 4, \"questionId\": \"5_UseShap\", \"learnToolsVersion\": \"0.3.4\", \"valueTowardsCompletion\": 0.0, \"failureMessage\": \"\", \"exceptionClass\": \"\", \"trace\": \"\", \"outcomeType\": 4}}, \"*\")"
      ],
      "text/plain": [
       "<IPython.core.display.Javascript object>"
      ]
     },
     "metadata": {},
     "output_type": "display_data"
    },
    {
     "data": {
      "text/markdown": [
       "<span style=\"color:#33cc99\">Solution:</span> \n",
       "```python\n",
       "\n",
       "# Use SHAP values to show the effect of each feature of a given patient\n",
       "\n",
       "import shap  # package used to calculate Shap values\n",
       "\n",
       "sample_data_for_prediction = val_X.iloc[0].astype(float)  # to test function\n",
       "\n",
       "def patient_risk_factors(model, patient_data):\n",
       "    # Create object that can calculate shap values\n",
       "    explainer = shap.TreeExplainer(model)\n",
       "    shap_values = explainer.shap_values(patient_data)\n",
       "    shap.initjs()\n",
       "    return shap.force_plot(explainer.expected_value[1], shap_values[1], patient_data)\n",
       "\n",
       "\n",
       "```"
      ],
      "text/plain": [
       "Solution: \n",
       "```python\n",
       "\n",
       "# Use SHAP values to show the effect of each feature of a given patient\n",
       "\n",
       "import shap  # package used to calculate Shap values\n",
       "\n",
       "sample_data_for_prediction = val_X.iloc[0].astype(float)  # to test function\n",
       "\n",
       "def patient_risk_factors(model, patient_data):\n",
       "    # Create object that can calculate shap values\n",
       "    explainer = shap.TreeExplainer(model)\n",
       "    shap_values = explainer.shap_values(patient_data)\n",
       "    shap.initjs()\n",
       "    return shap.force_plot(explainer.expected_value[1], shap_values[1], patient_data)\n",
       "\n",
       "\n",
       "```"
      ]
     },
     "metadata": {},
     "output_type": "display_data"
    }
   ],
   "source": [
    "# Check your answer (Run this code cell to receive credit!)\n",
    "q_5.solution()"
   ]
  },
  {
   "cell_type": "markdown",
   "id": "bf27b192",
   "metadata": {
    "papermill": {
     "duration": 0.013113,
     "end_time": "2024-09-29T22:02:08.658814",
     "exception": false,
     "start_time": "2024-09-29T22:02:08.645701",
     "status": "completed"
    },
    "tags": []
   },
   "source": [
    "## Keep Going\n",
    "You have some powerful tools to get insights about both models and individual predictions. Next you will look at **[aggregations of SHAP values](https://www.kaggle.com/dansbecker/advanced-uses-of-shap-values)** to link the model-level and prediction-level insights.\n"
   ]
  },
  {
   "cell_type": "markdown",
   "id": "5f532918",
   "metadata": {
    "papermill": {
     "duration": 0.013556,
     "end_time": "2024-09-29T22:02:08.686945",
     "exception": false,
     "start_time": "2024-09-29T22:02:08.673389",
     "status": "completed"
    },
    "tags": []
   },
   "source": [
    "---\n",
    "\n",
    "\n",
    "\n",
    "\n",
    "*Have questions or comments? Visit the [course discussion forum](https://www.kaggle.com/learn/machine-learning-explainability/discussion) to chat with other learners.*"
   ]
  }
 ],
 "metadata": {
  "kaggle": {
   "accelerator": "none",
   "dataSources": [
    {
     "datasetId": 32736,
     "sourceId": 57051,
     "sourceType": "datasetVersion"
    },
    {
     "datasetId": 52431,
     "sourceId": 98041,
     "sourceType": "datasetVersion"
    },
    {
     "datasetId": 52463,
     "sourceId": 98217,
     "sourceType": "datasetVersion"
    }
   ],
   "isGpuEnabled": false,
   "isInternetEnabled": true,
   "language": "python",
   "sourceType": "notebook"
  },
  "kernelspec": {
   "display_name": "Python 3",
   "language": "python",
   "name": "python3"
  },
  "language_info": {
   "codemirror_mode": {
    "name": "ipython",
    "version": 3
   },
   "file_extension": ".py",
   "mimetype": "text/x-python",
   "name": "python",
   "nbconvert_exporter": "python",
   "pygments_lexer": "ipython3",
   "version": "3.10.14"
  },
  "papermill": {
   "default_parameters": {},
   "duration": 78.816635,
   "end_time": "2024-09-29T22:02:10.632150",
   "environment_variables": {},
   "exception": null,
   "input_path": "__notebook__.ipynb",
   "output_path": "__notebook__.ipynb",
   "parameters": {},
   "start_time": "2024-09-29T22:00:51.815515",
   "version": "2.6.0"
  }
 },
 "nbformat": 4,
 "nbformat_minor": 5
}
