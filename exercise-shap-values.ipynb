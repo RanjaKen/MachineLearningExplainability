{
 "cells": [
  {
   "cell_type": "markdown",
   "id": "751bd528",
   "metadata": {
    "papermill": {
     "duration": 0.010022,
     "end_time": "2024-09-29T22:02:15.471709",
     "exception": false,
     "start_time": "2024-09-29T22:02:15.461687",
     "status": "completed"
    },
    "tags": []
   },
   "source": [
    "**This notebook is an exercise in the [Machine Learning Explainability](https://www.kaggle.com/learn/machine-learning-explainability) course.  You can reference the tutorial at [this link](https://www.kaggle.com/dansbecker/shap-values).**\n",
    "\n",
    "---\n"
   ]
  },
  {
   "cell_type": "markdown",
   "id": "b36d5eb9",
   "metadata": {
    "papermill": {
     "duration": 0.008876,
     "end_time": "2024-09-29T22:02:15.489931",
     "exception": false,
     "start_time": "2024-09-29T22:02:15.481055",
     "status": "completed"
    },
    "tags": []
   },
   "source": [
    "## Set Up\n",
    "\n",
    "At this point, you have enough tools to put together compelling solutions to real-world problems. You will ned to pick the right techniques for each part of the following data science scenario. Along the way, you'll use SHAP values along with your other insights tools.\n",
    "\n",
    "**The questions below give you feedback on your work by using some checking code. Run the following cell to set up our feedback system.**"
   ]
  },
  {
   "cell_type": "code",
   "execution_count": 1,
   "id": "3907204b",
   "metadata": {
    "execution": {
     "iopub.execute_input": "2024-09-29T22:02:15.510984Z",
     "iopub.status.busy": "2024-09-29T22:02:15.510376Z",
     "iopub.status.idle": "2024-09-29T22:02:42.822147Z",
     "shell.execute_reply": "2024-09-29T22:02:42.820207Z"
    },
    "papermill": {
     "duration": 27.326301,
     "end_time": "2024-09-29T22:02:42.825327",
     "exception": false,
     "start_time": "2024-09-29T22:02:15.499026",
     "status": "completed"
    },
    "tags": []
   },
   "outputs": [
    {
     "name": "stdout",
     "output_type": "stream",
     "text": [
      "Collecting git+https://github.com/Kaggle/learntools.git\r\n",
      "  Cloning https://github.com/Kaggle/learntools.git to /tmp/pip-req-build-wmc4qio6\r\n",
      "  Running command git clone --filter=blob:none --quiet https://github.com/Kaggle/learntools.git /tmp/pip-req-build-wmc4qio6\r\n",
      "  Resolved https://github.com/Kaggle/learntools.git to commit ca2a51ee0085e4943cadaf5e9fe7dce2ec947d3c\r\n",
      "  Preparing metadata (setup.py) ... \u001b[?25ldone\r\n",
      "\u001b[?25hBuilding wheels for collected packages: learntools\r\n",
      "  Building wheel for learntools (setup.py) ... \u001b[?25l-\b \bdone\r\n",
      "\u001b[?25h  Created wheel for learntools: filename=learntools-0.3.4-py3-none-any.whl size=268968 sha256=f68f724a06d119d25e2a37f1c6d72fe463233c8818d6a7c0d625b6255ceda52a\r\n",
      "  Stored in directory: /tmp/pip-ephem-wheel-cache-78w0yeap/wheels/2f/6c/3c/aa9f50cfb5a862157cb4c7a5b34881828cf45404698255dced\r\n",
      "Successfully built learntools\r\n",
      "Installing collected packages: learntools\r\n",
      "Successfully installed learntools-0.3.4\r\n",
      "Setup Complete\n"
     ]
    }
   ],
   "source": [
    "# Get most recent checking code\n",
    "!pip install -U -t /kaggle/working/ git+https://github.com/Kaggle/learntools.git\n",
    "from learntools.ml_explainability.ex4 import *\n",
    "print(\"Setup Complete\")"
   ]
  },
  {
   "cell_type": "markdown",
   "id": "a1d63893",
   "metadata": {
    "papermill": {
     "duration": 0.010407,
     "end_time": "2024-09-29T22:02:42.845984",
     "exception": false,
     "start_time": "2024-09-29T22:02:42.835577",
     "status": "completed"
    },
    "tags": []
   },
   "source": [
    "## The Scenario\n",
    "A hospital has struggled with \"readmissions,\" where they release a patient before the patient has recovered enough, and the patient returns with health complications. \n",
    "\n",
    "The hospital wants your help identifying patients at highest risk of being readmitted. Doctors (rather than your model) will make the final decision about when to release each patient; but they hope your model will highlight issues the doctors should consider when releasing a patient.\n",
    "\n",
    "The hospital has given you relevant patient medical information.  Here is a list of columns in the data:\n"
   ]
  },
  {
   "cell_type": "code",
   "execution_count": 2,
   "id": "8a3c1207",
   "metadata": {
    "execution": {
     "iopub.execute_input": "2024-09-29T22:02:42.871019Z",
     "iopub.status.busy": "2024-09-29T22:02:42.869290Z",
     "iopub.status.idle": "2024-09-29T22:02:43.220115Z",
     "shell.execute_reply": "2024-09-29T22:02:43.218716Z"
    },
    "papermill": {
     "duration": 0.366705,
     "end_time": "2024-09-29T22:02:43.222807",
     "exception": false,
     "start_time": "2024-09-29T22:02:42.856102",
     "status": "completed"
    },
    "tags": []
   },
   "outputs": [
    {
     "data": {
      "text/plain": [
       "Index(['time_in_hospital', 'num_lab_procedures', 'num_procedures',\n",
       "       'num_medications', 'number_outpatient', 'number_emergency',\n",
       "       'number_inpatient', 'number_diagnoses', 'race_Caucasian',\n",
       "       'race_AfricanAmerican', 'gender_Female', 'age_[70-80)', 'age_[60-70)',\n",
       "       'age_[50-60)', 'age_[80-90)', 'age_[40-50)', 'payer_code_?',\n",
       "       'payer_code_MC', 'payer_code_HM', 'payer_code_SP', 'payer_code_BC',\n",
       "       'medical_specialty_?', 'medical_specialty_InternalMedicine',\n",
       "       'medical_specialty_Emergency/Trauma',\n",
       "       'medical_specialty_Family/GeneralPractice',\n",
       "       'medical_specialty_Cardiology', 'diag_1_428', 'diag_1_414',\n",
       "       'diag_1_786', 'diag_2_276', 'diag_2_428', 'diag_2_250', 'diag_2_427',\n",
       "       'diag_3_250', 'diag_3_401', 'diag_3_276', 'diag_3_428',\n",
       "       'max_glu_serum_None', 'A1Cresult_None', 'metformin_No',\n",
       "       'repaglinide_No', 'nateglinide_No', 'chlorpropamide_No',\n",
       "       'glimepiride_No', 'acetohexamide_No', 'glipizide_No', 'glyburide_No',\n",
       "       'tolbutamide_No', 'pioglitazone_No', 'rosiglitazone_No', 'acarbose_No',\n",
       "       'miglitol_No', 'troglitazone_No', 'tolazamide_No', 'examide_No',\n",
       "       'citoglipton_No', 'insulin_No', 'glyburide-metformin_No',\n",
       "       'glipizide-metformin_No', 'glimepiride-pioglitazone_No',\n",
       "       'metformin-rosiglitazone_No', 'metformin-pioglitazone_No', 'change_No',\n",
       "       'diabetesMed_Yes', 'readmitted'],\n",
       "      dtype='object')"
      ]
     },
     "execution_count": 2,
     "metadata": {},
     "output_type": "execute_result"
    }
   ],
   "source": [
    "import pandas as pd\n",
    "data = pd.read_csv('../input/hospital-readmissions/train.csv')\n",
    "data.columns"
   ]
  },
  {
   "cell_type": "markdown",
   "id": "713cd635",
   "metadata": {
    "papermill": {
     "duration": 0.010723,
     "end_time": "2024-09-29T22:02:43.247016",
     "exception": false,
     "start_time": "2024-09-29T22:02:43.236293",
     "status": "completed"
    },
    "tags": []
   },
   "source": [
    "Here are some quick hints at interpreting the field names:\n",
    "\n",
    "- Your prediction target is `readmitted`\n",
    "- Columns with the word `diag` indicate the diagnostic code of the illness or illnesses the patient was admitted with. For example, `diag_1_428` means the doctor said their first illness diagnosis is number \"428\".  What illness does 428 correspond to? You could look it up in a codebook, but without more medical background it wouldn't mean anything to you anyway.\n",
    "- A column names like `glimepiride_No` mean the patient did not have the medicine `glimepiride`. If this feature had a value of False, then the patient did take the drug `glimepiride`\n",
    "- Features whose names begin with `medical_specialty` describe the specialty of the doctor seeing the patient. The values in these fields are all `True` or `False`.\n"
   ]
  },
  {
   "cell_type": "markdown",
   "id": "3c949fa7",
   "metadata": {
    "papermill": {
     "duration": 0.012085,
     "end_time": "2024-09-29T22:02:43.270623",
     "exception": false,
     "start_time": "2024-09-29T22:02:43.258538",
     "status": "completed"
    },
    "tags": []
   },
   "source": [
    "## Your Code Library\n",
    "As you write code to work through this scenario, these code snippets from previous tutorials may be useful. You'll still need to modify them, but we've copied them here to save you from having to look them up.\n",
    "\n",
    "**Calculate and show permutation importance:**\n",
    "```\n",
    "import eli5\n",
    "from eli5.sklearn import PermutationImportance\n",
    "\n",
    "perm = PermutationImportance(my_model, random_state=1).fit(val_X, val_y)\n",
    "eli5.show_weights(perm, feature_names = val_X.columns.tolist())\n",
    "```\n",
    "\n",
    "**Calculate and show partial dependence plot:**\n",
    "```\n",
    "from matplotlib import pyplot as plt\n",
    "from sklearn.inspection import PartialDependenceDisplay\n",
    "\n",
    "feature_name = 'Goal Scored'\n",
    "PartialDependenceDisplay.from_estimator(my_model, val_X, [feature_name])\n",
    "plt.show()\n",
    "```\n",
    "\n",
    "**Calculate and show Shap Values for One Prediction:**\n",
    "```\n",
    "import shap  # package used to calculate Shap values\n",
    "\n",
    "data_for_prediction = val_X.iloc[0,:]  # use 1 row of data here. Could use multiple rows if desired\n",
    "\n",
    "# Create object that can calculate shap values\n",
    "explainer = shap.TreeExplainer(my_model)\n",
    "shap_values = explainer.shap_values(data_for_prediction)\n",
    "shap.initjs()\n",
    "shap.force_plot(explainer.expected_value[0], shap_values[0], data_for_prediction)\n",
    "```\n",
    "\n",
    "## Step 1\n",
    "You have built a simple model, but the doctors say they don't know how to evaluate a model, and they'd like you to show them some evidence the model is doing something in line with their medical intuition. Create any graphics or tables that will show them a quick overview of what the model is doing?\n",
    "\n",
    "They are very busy. So they want you to condense your model overview into just 1 or 2 graphics, rather than a long string of graphics.\n",
    "\n",
    "We'll start after the point where you've built a basic model. Just run the following cell to build the model called `my_model`."
   ]
  },
  {
   "cell_type": "code",
   "execution_count": 3,
   "id": "c4583c07",
   "metadata": {
    "execution": {
     "iopub.execute_input": "2024-09-29T22:02:43.295556Z",
     "iopub.status.busy": "2024-09-29T22:02:43.294670Z",
     "iopub.status.idle": "2024-09-29T22:02:46.838218Z",
     "shell.execute_reply": "2024-09-29T22:02:46.836857Z"
    },
    "papermill": {
     "duration": 3.558916,
     "end_time": "2024-09-29T22:02:46.841550",
     "exception": false,
     "start_time": "2024-09-29T22:02:43.282634",
     "status": "completed"
    },
    "tags": []
   },
   "outputs": [],
   "source": [
    "import pandas as pd\n",
    "from sklearn.ensemble import RandomForestClassifier\n",
    "from sklearn.model_selection import train_test_split\n",
    "\n",
    "data = pd.read_csv('../input/hospital-readmissions/train.csv')\n",
    "\n",
    "y = data.readmitted\n",
    "\n",
    "base_features = [c for c in data.columns if c != \"readmitted\"]\n",
    "\n",
    "X = data[base_features]\n",
    "\n",
    "train_X, val_X, train_y, val_y = train_test_split(X, y, random_state=1)\n",
    "my_model = RandomForestClassifier(n_estimators=30, random_state=1).fit(train_X, train_y)"
   ]
  },
  {
   "cell_type": "markdown",
   "id": "bc18e925",
   "metadata": {
    "papermill": {
     "duration": 0.010268,
     "end_time": "2024-09-29T22:02:46.865386",
     "exception": false,
     "start_time": "2024-09-29T22:02:46.855118",
     "status": "completed"
    },
    "tags": []
   },
   "source": [
    "Now use the following cell to create the materials for the doctors."
   ]
  },
  {
   "cell_type": "code",
   "execution_count": 4,
   "id": "ac35de66",
   "metadata": {
    "execution": {
     "iopub.execute_input": "2024-09-29T22:02:46.888021Z",
     "iopub.status.busy": "2024-09-29T22:02:46.887517Z",
     "iopub.status.idle": "2024-09-29T22:03:26.412398Z",
     "shell.execute_reply": "2024-09-29T22:03:26.410987Z"
    },
    "papermill": {
     "duration": 39.549795,
     "end_time": "2024-09-29T22:03:26.425543",
     "exception": false,
     "start_time": "2024-09-29T22:02:46.875748",
     "status": "completed"
    },
    "tags": []
   },
   "outputs": [
    {
     "data": {
      "text/html": [
       "\n",
       "    <style>\n",
       "    table.eli5-weights tr:hover {\n",
       "        filter: brightness(85%);\n",
       "    }\n",
       "</style>\n",
       "\n",
       "\n",
       "\n",
       "    \n",
       "\n",
       "    \n",
       "\n",
       "    \n",
       "\n",
       "    \n",
       "\n",
       "    \n",
       "\n",
       "    \n",
       "\n",
       "\n",
       "    \n",
       "\n",
       "    \n",
       "\n",
       "    \n",
       "\n",
       "    \n",
       "\n",
       "    \n",
       "\n",
       "    \n",
       "\n",
       "\n",
       "    \n",
       "\n",
       "    \n",
       "\n",
       "    \n",
       "\n",
       "    \n",
       "\n",
       "    \n",
       "        <table class=\"eli5-weights eli5-feature-importances\" style=\"border-collapse: collapse; border: none; margin-top: 0em; table-layout: auto;\">\n",
       "    <thead>\n",
       "    <tr style=\"border: none;\">\n",
       "        <th style=\"padding: 0 1em 0 0.5em; text-align: right; border: none;\">Weight</th>\n",
       "        <th style=\"padding: 0 0.5em 0 0.5em; text-align: left; border: none;\">Feature</th>\n",
       "    </tr>\n",
       "    </thead>\n",
       "    <tbody>\n",
       "    \n",
       "        <tr style=\"background-color: hsl(120, 100.00%, 80.00%); border: none;\">\n",
       "            <td style=\"padding: 0 1em 0 0.5em; text-align: right; border: none;\">\n",
       "                0.0451\n",
       "                \n",
       "                    &plusmn; 0.0068\n",
       "                \n",
       "            </td>\n",
       "            <td style=\"padding: 0 0.5em 0 0.5em; text-align: left; border: none;\">\n",
       "                number_inpatient\n",
       "            </td>\n",
       "        </tr>\n",
       "    \n",
       "        <tr style=\"background-color: hsl(120, 100.00%, 93.66%); border: none;\">\n",
       "            <td style=\"padding: 0 1em 0 0.5em; text-align: right; border: none;\">\n",
       "                0.0087\n",
       "                \n",
       "                    &plusmn; 0.0046\n",
       "                \n",
       "            </td>\n",
       "            <td style=\"padding: 0 0.5em 0 0.5em; text-align: left; border: none;\">\n",
       "                number_emergency\n",
       "            </td>\n",
       "        </tr>\n",
       "    \n",
       "        <tr style=\"background-color: hsl(120, 100.00%, 95.01%); border: none;\">\n",
       "            <td style=\"padding: 0 1em 0 0.5em; text-align: right; border: none;\">\n",
       "                0.0062\n",
       "                \n",
       "                    &plusmn; 0.0053\n",
       "                \n",
       "            </td>\n",
       "            <td style=\"padding: 0 0.5em 0 0.5em; text-align: left; border: none;\">\n",
       "                number_outpatient\n",
       "            </td>\n",
       "        </tr>\n",
       "    \n",
       "        <tr style=\"background-color: hsl(120, 100.00%, 96.82%); border: none;\">\n",
       "            <td style=\"padding: 0 1em 0 0.5em; text-align: right; border: none;\">\n",
       "                0.0033\n",
       "                \n",
       "                    &plusmn; 0.0016\n",
       "                \n",
       "            </td>\n",
       "            <td style=\"padding: 0 0.5em 0 0.5em; text-align: left; border: none;\">\n",
       "                payer_code_MC\n",
       "            </td>\n",
       "        </tr>\n",
       "    \n",
       "        <tr style=\"background-color: hsl(120, 100.00%, 97.70%); border: none;\">\n",
       "            <td style=\"padding: 0 1em 0 0.5em; text-align: right; border: none;\">\n",
       "                0.0020\n",
       "                \n",
       "                    &plusmn; 0.0016\n",
       "                \n",
       "            </td>\n",
       "            <td style=\"padding: 0 0.5em 0 0.5em; text-align: left; border: none;\">\n",
       "                diag_3_401\n",
       "            </td>\n",
       "        </tr>\n",
       "    \n",
       "        <tr style=\"background-color: hsl(120, 100.00%, 98.09%); border: none;\">\n",
       "            <td style=\"padding: 0 1em 0 0.5em; text-align: right; border: none;\">\n",
       "                0.0016\n",
       "                \n",
       "                    &plusmn; 0.0031\n",
       "                \n",
       "            </td>\n",
       "            <td style=\"padding: 0 0.5em 0 0.5em; text-align: left; border: none;\">\n",
       "                medical_specialty_Emergency/Trauma\n",
       "            </td>\n",
       "        </tr>\n",
       "    \n",
       "        <tr style=\"background-color: hsl(120, 100.00%, 98.21%); border: none;\">\n",
       "            <td style=\"padding: 0 1em 0 0.5em; text-align: right; border: none;\">\n",
       "                0.0014\n",
       "                \n",
       "                    &plusmn; 0.0024\n",
       "                \n",
       "            </td>\n",
       "            <td style=\"padding: 0 0.5em 0 0.5em; text-align: left; border: none;\">\n",
       "                A1Cresult_None\n",
       "            </td>\n",
       "        </tr>\n",
       "    \n",
       "        <tr style=\"background-color: hsl(120, 100.00%, 98.23%); border: none;\">\n",
       "            <td style=\"padding: 0 1em 0 0.5em; text-align: right; border: none;\">\n",
       "                0.0014\n",
       "                \n",
       "                    &plusmn; 0.0021\n",
       "                \n",
       "            </td>\n",
       "            <td style=\"padding: 0 0.5em 0 0.5em; text-align: left; border: none;\">\n",
       "                medical_specialty_Family/GeneralPractice\n",
       "            </td>\n",
       "        </tr>\n",
       "    \n",
       "        <tr style=\"background-color: hsl(120, 100.00%, 98.35%); border: none;\">\n",
       "            <td style=\"padding: 0 1em 0 0.5em; text-align: right; border: none;\">\n",
       "                0.0013\n",
       "                \n",
       "                    &plusmn; 0.0010\n",
       "                \n",
       "            </td>\n",
       "            <td style=\"padding: 0 0.5em 0 0.5em; text-align: left; border: none;\">\n",
       "                diag_2_427\n",
       "            </td>\n",
       "        </tr>\n",
       "    \n",
       "        <tr style=\"background-color: hsl(120, 100.00%, 98.35%); border: none;\">\n",
       "            <td style=\"padding: 0 1em 0 0.5em; text-align: right; border: none;\">\n",
       "                0.0013\n",
       "                \n",
       "                    &plusmn; 0.0011\n",
       "                \n",
       "            </td>\n",
       "            <td style=\"padding: 0 0.5em 0 0.5em; text-align: left; border: none;\">\n",
       "                diag_2_276\n",
       "            </td>\n",
       "        </tr>\n",
       "    \n",
       "        <tr style=\"background-color: hsl(120, 100.00%, 98.56%); border: none;\">\n",
       "            <td style=\"padding: 0 1em 0 0.5em; text-align: right; border: none;\">\n",
       "                0.0011\n",
       "                \n",
       "                    &plusmn; 0.0022\n",
       "                \n",
       "            </td>\n",
       "            <td style=\"padding: 0 0.5em 0 0.5em; text-align: left; border: none;\">\n",
       "                age_[50-60)\n",
       "            </td>\n",
       "        </tr>\n",
       "    \n",
       "        <tr style=\"background-color: hsl(120, 100.00%, 98.62%); border: none;\">\n",
       "            <td style=\"padding: 0 1em 0 0.5em; text-align: right; border: none;\">\n",
       "                0.0010\n",
       "                \n",
       "                    &plusmn; 0.0022\n",
       "                \n",
       "            </td>\n",
       "            <td style=\"padding: 0 0.5em 0 0.5em; text-align: left; border: none;\">\n",
       "                age_[80-90)\n",
       "            </td>\n",
       "        </tr>\n",
       "    \n",
       "        <tr style=\"background-color: hsl(120, 100.00%, 98.88%); border: none;\">\n",
       "            <td style=\"padding: 0 1em 0 0.5em; text-align: right; border: none;\">\n",
       "                0.0007\n",
       "                \n",
       "                    &plusmn; 0.0006\n",
       "                \n",
       "            </td>\n",
       "            <td style=\"padding: 0 0.5em 0 0.5em; text-align: left; border: none;\">\n",
       "                repaglinide_No\n",
       "            </td>\n",
       "        </tr>\n",
       "    \n",
       "        <tr style=\"background-color: hsl(120, 100.00%, 99.02%); border: none;\">\n",
       "            <td style=\"padding: 0 1em 0 0.5em; text-align: right; border: none;\">\n",
       "                0.0006\n",
       "                \n",
       "                    &plusmn; 0.0010\n",
       "                \n",
       "            </td>\n",
       "            <td style=\"padding: 0 0.5em 0 0.5em; text-align: left; border: none;\">\n",
       "                diag_1_428\n",
       "            </td>\n",
       "        </tr>\n",
       "    \n",
       "        <tr style=\"background-color: hsl(120, 100.00%, 99.05%); border: none;\">\n",
       "            <td style=\"padding: 0 1em 0 0.5em; text-align: right; border: none;\">\n",
       "                0.0006\n",
       "                \n",
       "                    &plusmn; 0.0022\n",
       "                \n",
       "            </td>\n",
       "            <td style=\"padding: 0 0.5em 0 0.5em; text-align: left; border: none;\">\n",
       "                payer_code_SP\n",
       "            </td>\n",
       "        </tr>\n",
       "    \n",
       "        <tr style=\"background-color: hsl(120, 100.00%, 99.17%); border: none;\">\n",
       "            <td style=\"padding: 0 1em 0 0.5em; text-align: right; border: none;\">\n",
       "                0.0005\n",
       "                \n",
       "                    &plusmn; 0.0030\n",
       "                \n",
       "            </td>\n",
       "            <td style=\"padding: 0 0.5em 0 0.5em; text-align: left; border: none;\">\n",
       "                insulin_No\n",
       "            </td>\n",
       "        </tr>\n",
       "    \n",
       "        <tr style=\"background-color: hsl(120, 100.00%, 99.25%); border: none;\">\n",
       "            <td style=\"padding: 0 1em 0 0.5em; text-align: right; border: none;\">\n",
       "                0.0004\n",
       "                \n",
       "                    &plusmn; 0.0028\n",
       "                \n",
       "            </td>\n",
       "            <td style=\"padding: 0 0.5em 0 0.5em; text-align: left; border: none;\">\n",
       "                diabetesMed_Yes\n",
       "            </td>\n",
       "        </tr>\n",
       "    \n",
       "        <tr style=\"background-color: hsl(120, 100.00%, 99.33%); border: none;\">\n",
       "            <td style=\"padding: 0 1em 0 0.5em; text-align: right; border: none;\">\n",
       "                0.0004\n",
       "                \n",
       "                    &plusmn; 0.0021\n",
       "                \n",
       "            </td>\n",
       "            <td style=\"padding: 0 0.5em 0 0.5em; text-align: left; border: none;\">\n",
       "                diag_3_250\n",
       "            </td>\n",
       "        </tr>\n",
       "    \n",
       "        <tr style=\"background-color: hsl(120, 100.00%, 99.37%); border: none;\">\n",
       "            <td style=\"padding: 0 1em 0 0.5em; text-align: right; border: none;\">\n",
       "                0.0003\n",
       "                \n",
       "                    &plusmn; 0.0018\n",
       "                \n",
       "            </td>\n",
       "            <td style=\"padding: 0 0.5em 0 0.5em; text-align: left; border: none;\">\n",
       "                diag_2_250\n",
       "            </td>\n",
       "        </tr>\n",
       "    \n",
       "        <tr style=\"background-color: hsl(120, 100.00%, 99.46%); border: none;\">\n",
       "            <td style=\"padding: 0 1em 0 0.5em; text-align: right; border: none;\">\n",
       "                0.0003\n",
       "                \n",
       "                    &plusmn; 0.0015\n",
       "                \n",
       "            </td>\n",
       "            <td style=\"padding: 0 0.5em 0 0.5em; text-align: left; border: none;\">\n",
       "                glipizide_No\n",
       "            </td>\n",
       "        </tr>\n",
       "    \n",
       "    \n",
       "        \n",
       "            <tr style=\"background-color: hsl(120, 100.00%, 99.46%); border: none;\">\n",
       "                <td colspan=\"2\" style=\"padding: 0 0.5em 0 0.5em; text-align: center; border: none; white-space: nowrap;\">\n",
       "                    <i>&hellip; 44 more &hellip;</i>\n",
       "                </td>\n",
       "            </tr>\n",
       "        \n",
       "    \n",
       "    </tbody>\n",
       "</table>\n",
       "    \n",
       "\n",
       "    \n",
       "\n",
       "\n",
       "    \n",
       "\n",
       "    \n",
       "\n",
       "    \n",
       "\n",
       "    \n",
       "\n",
       "    \n",
       "\n",
       "    \n",
       "\n",
       "\n",
       "\n"
      ],
      "text/plain": [
       "<IPython.core.display.HTML object>"
      ]
     },
     "execution_count": 4,
     "metadata": {},
     "output_type": "execute_result"
    }
   ],
   "source": [
    "# Your code here\n",
    "import eli5\n",
    "from eli5.sklearn import PermutationImportance\n",
    "\n",
    "perm= PermutationImportance(my_model, random_state=1).fit(val_X, val_y)\n",
    "eli5.show_weights(perm, feature_names= val_X.columns.tolist())"
   ]
  },
  {
   "cell_type": "markdown",
   "id": "1278f4fc",
   "metadata": {
    "papermill": {
     "duration": 0.010135,
     "end_time": "2024-09-29T22:03:26.446056",
     "exception": false,
     "start_time": "2024-09-29T22:03:26.435921",
     "status": "completed"
    },
    "tags": []
   },
   "source": [
    "For our idea of what to show, run the cell below.  "
   ]
  },
  {
   "cell_type": "code",
   "execution_count": 5,
   "id": "2cd5b778",
   "metadata": {
    "execution": {
     "iopub.execute_input": "2024-09-29T22:03:26.469470Z",
     "iopub.status.busy": "2024-09-29T22:03:26.468580Z",
     "iopub.status.idle": "2024-09-29T22:03:26.481033Z",
     "shell.execute_reply": "2024-09-29T22:03:26.479420Z"
    },
    "papermill": {
     "duration": 0.02747,
     "end_time": "2024-09-29T22:03:26.484060",
     "exception": false,
     "start_time": "2024-09-29T22:03:26.456590",
     "status": "completed"
    },
    "tags": []
   },
   "outputs": [
    {
     "data": {
      "application/javascript": [
       "parent.postMessage({\"jupyterEvent\": \"custom.exercise_interaction\", \"data\": {\"interactionType\": 3, \"questionType\": 4, \"questionId\": \"1_SummarizeModel\", \"learnToolsVersion\": \"0.3.4\", \"valueTowardsCompletion\": 0.0, \"failureMessage\": \"\", \"exceptionClass\": \"\", \"trace\": \"\", \"outcomeType\": 4}}, \"*\")"
      ],
      "text/plain": [
       "<IPython.core.display.Javascript object>"
      ]
     },
     "metadata": {},
     "output_type": "display_data"
    },
    {
     "data": {
      "text/markdown": [
       "<span style=\"color:#33cc99\">Solution:</span> \n",
       "```python\n",
       "\n",
       "# Use permutation importance as a succinct model summary\n",
       "# A measure of model performance on validation data would be useful here too\n",
       "\n",
       "import eli5\n",
       "from eli5.sklearn import PermutationImportance\n",
       "\n",
       "perm = PermutationImportance(my_model, random_state=1).fit(val_X, val_y)\n",
       "eli5.show_weights(perm, feature_names = val_X.columns.tolist())\n",
       "\n",
       "```"
      ],
      "text/plain": [
       "Solution: \n",
       "```python\n",
       "\n",
       "# Use permutation importance as a succinct model summary\n",
       "# A measure of model performance on validation data would be useful here too\n",
       "\n",
       "import eli5\n",
       "from eli5.sklearn import PermutationImportance\n",
       "\n",
       "perm = PermutationImportance(my_model, random_state=1).fit(val_X, val_y)\n",
       "eli5.show_weights(perm, feature_names = val_X.columns.tolist())\n",
       "\n",
       "```"
      ]
     },
     "metadata": {},
     "output_type": "display_data"
    }
   ],
   "source": [
    "# Run this code cell to receive credit!\n",
    "q_1.solution()"
   ]
  },
  {
   "cell_type": "markdown",
   "id": "00fcf19d",
   "metadata": {
    "papermill": {
     "duration": 0.010535,
     "end_time": "2024-09-29T22:03:26.505521",
     "exception": false,
     "start_time": "2024-09-29T22:03:26.494986",
     "status": "completed"
    },
    "tags": []
   },
   "source": [
    "If you'd like to discuss your approach or see what others have done, we have a discussion forum [here](https://www.kaggle.com/learn-forum/66267#latest-390149).\n",
    "\n"
   ]
  },
  {
   "cell_type": "markdown",
   "id": "1fd5953b",
   "metadata": {
    "papermill": {
     "duration": 0.010417,
     "end_time": "2024-09-29T22:03:26.526961",
     "exception": false,
     "start_time": "2024-09-29T22:03:26.516544",
     "status": "completed"
    },
    "tags": []
   },
   "source": [
    "## Step 2\n",
    "\n",
    "It appears `number_inpatient` is a really important feature. The doctors would like to know more about that. Create a graph for them that shows how `num_inpatient` affects the model's predictions."
   ]
  },
  {
   "cell_type": "code",
   "execution_count": 6,
   "id": "194254ed",
   "metadata": {
    "execution": {
     "iopub.execute_input": "2024-09-29T22:03:26.551130Z",
     "iopub.status.busy": "2024-09-29T22:03:26.550434Z",
     "iopub.status.idle": "2024-09-29T22:03:26.559644Z",
     "shell.execute_reply": "2024-09-29T22:03:26.558117Z"
    },
    "papermill": {
     "duration": 0.024958,
     "end_time": "2024-09-29T22:03:26.562687",
     "exception": false,
     "start_time": "2024-09-29T22:03:26.537729",
     "status": "completed"
    },
    "tags": []
   },
   "outputs": [
    {
     "data": {
      "text/markdown": [],
      "text/plain": [
       "<learntools.core.constants.PlaceholderValue at 0x7d037b43fee0>"
      ]
     },
     "execution_count": 6,
     "metadata": {},
     "output_type": "execute_result"
    }
   ],
   "source": [
    "# Your Code Here\n",
    "____"
   ]
  },
  {
   "cell_type": "markdown",
   "id": "9530ef89",
   "metadata": {
    "papermill": {
     "duration": 0.01078,
     "end_time": "2024-09-29T22:03:26.584675",
     "exception": false,
     "start_time": "2024-09-29T22:03:26.573895",
     "status": "completed"
    },
    "tags": []
   },
   "source": [
    "For our solution, run the line below."
   ]
  },
  {
   "cell_type": "code",
   "execution_count": 7,
   "id": "7a07097d",
   "metadata": {
    "execution": {
     "iopub.execute_input": "2024-09-29T22:03:26.609763Z",
     "iopub.status.busy": "2024-09-29T22:03:26.608357Z",
     "iopub.status.idle": "2024-09-29T22:03:26.620486Z",
     "shell.execute_reply": "2024-09-29T22:03:26.619021Z"
    },
    "papermill": {
     "duration": 0.027807,
     "end_time": "2024-09-29T22:03:26.623667",
     "exception": false,
     "start_time": "2024-09-29T22:03:26.595860",
     "status": "completed"
    },
    "tags": []
   },
   "outputs": [
    {
     "data": {
      "application/javascript": [
       "parent.postMessage({\"jupyterEvent\": \"custom.exercise_interaction\", \"data\": {\"interactionType\": 3, \"questionType\": 4, \"questionId\": \"2_EffectNumInpatient\", \"learnToolsVersion\": \"0.3.4\", \"valueTowardsCompletion\": 0.0, \"failureMessage\": \"\", \"exceptionClass\": \"\", \"trace\": \"\", \"outcomeType\": 4}}, \"*\")"
      ],
      "text/plain": [
       "<IPython.core.display.Javascript object>"
      ]
     },
     "metadata": {},
     "output_type": "display_data"
    },
    {
     "data": {
      "text/markdown": [
       "<span style=\"color:#33cc99\">Solution:</span> \n",
       "```python\n",
       "\n",
       "# PDP for number_inpatient feature\n",
       "\n",
       "from matplotlib import pyplot as plt\n",
       "from sklearn.inspection import PartialDependenceDisplay\n",
       "\n",
       "feature_name = 'number_inpatient'\n",
       "PartialDependenceDisplay.from_estimator(my_model, val_X, [feature_name])\n",
       "plt.show()\n",
       "\n",
       "```"
      ],
      "text/plain": [
       "Solution: \n",
       "```python\n",
       "\n",
       "# PDP for number_inpatient feature\n",
       "\n",
       "from matplotlib import pyplot as plt\n",
       "from sklearn.inspection import PartialDependenceDisplay\n",
       "\n",
       "feature_name = 'number_inpatient'\n",
       "PartialDependenceDisplay.from_estimator(my_model, val_X, [feature_name])\n",
       "plt.show()\n",
       "\n",
       "```"
      ]
     },
     "metadata": {},
     "output_type": "display_data"
    }
   ],
   "source": [
    "# Check your answer (Run this code cell to receive credit!)\n",
    "q_2.solution()"
   ]
  },
  {
   "cell_type": "markdown",
   "id": "597affdd",
   "metadata": {
    "papermill": {
     "duration": 0.011841,
     "end_time": "2024-09-29T22:03:26.647620",
     "exception": false,
     "start_time": "2024-09-29T22:03:26.635779",
     "status": "completed"
    },
    "tags": []
   },
   "source": [
    "## Step 3\n",
    "\n",
    "The doctors think it's a good sign that increasing the number of inpatient procedures leads to increased predictions.  But they can't tell from this plot whether that change in the plot is big or small. They'd like you to create something similar for `time_in_hospital` to see how that compares."
   ]
  },
  {
   "cell_type": "code",
   "execution_count": 8,
   "id": "78eb89e2",
   "metadata": {
    "execution": {
     "iopub.execute_input": "2024-09-29T22:03:26.673168Z",
     "iopub.status.busy": "2024-09-29T22:03:26.672484Z",
     "iopub.status.idle": "2024-09-29T22:03:26.681263Z",
     "shell.execute_reply": "2024-09-29T22:03:26.679747Z"
    },
    "papermill": {
     "duration": 0.024982,
     "end_time": "2024-09-29T22:03:26.684076",
     "exception": false,
     "start_time": "2024-09-29T22:03:26.659094",
     "status": "completed"
    },
    "tags": []
   },
   "outputs": [
    {
     "data": {
      "text/markdown": [],
      "text/plain": [
       "<learntools.core.constants.PlaceholderValue at 0x7d037b43fee0>"
      ]
     },
     "execution_count": 8,
     "metadata": {},
     "output_type": "execute_result"
    }
   ],
   "source": [
    "# Your Code Here\n",
    "____"
   ]
  },
  {
   "cell_type": "markdown",
   "id": "74f9c4ff",
   "metadata": {
    "papermill": {
     "duration": 0.01135,
     "end_time": "2024-09-29T22:03:26.707365",
     "exception": false,
     "start_time": "2024-09-29T22:03:26.696015",
     "status": "completed"
    },
    "tags": []
   },
   "source": [
    "Uncomment the relevant line below to see one solution."
   ]
  },
  {
   "cell_type": "code",
   "execution_count": 9,
   "id": "d158fd1c",
   "metadata": {
    "execution": {
     "iopub.execute_input": "2024-09-29T22:03:26.734326Z",
     "iopub.status.busy": "2024-09-29T22:03:26.733779Z",
     "iopub.status.idle": "2024-09-29T22:03:26.745624Z",
     "shell.execute_reply": "2024-09-29T22:03:26.744124Z"
    },
    "papermill": {
     "duration": 0.029554,
     "end_time": "2024-09-29T22:03:26.748775",
     "exception": false,
     "start_time": "2024-09-29T22:03:26.719221",
     "status": "completed"
    },
    "tags": []
   },
   "outputs": [
    {
     "data": {
      "application/javascript": [
       "parent.postMessage({\"jupyterEvent\": \"custom.exercise_interaction\", \"data\": {\"interactionType\": 3, \"questionType\": 4, \"questionId\": \"3_EffectTimeInHospital\", \"learnToolsVersion\": \"0.3.4\", \"valueTowardsCompletion\": 0.0, \"failureMessage\": \"\", \"exceptionClass\": \"\", \"trace\": \"\", \"outcomeType\": 4}}, \"*\")"
      ],
      "text/plain": [
       "<IPython.core.display.Javascript object>"
      ]
     },
     "metadata": {},
     "output_type": "display_data"
    },
    {
     "data": {
      "text/markdown": [
       "<span style=\"color:#33cc99\">Solution:</span> \n",
       "The results are very different. Specifically time in hospital has a much smaller effect. Code below:\n",
       "\n",
       "    from matplotlib import pyplot as plt\n",
       "    from sklearn.inspection import PartialDependenceDisplay\n",
       "\n",
       "    feature_name = 'time_in_hospital'\n",
       "    PartialDependenceDisplay.from_estimator(my_model, val_X, [feature_name])\n",
       "    plt.show()\n"
      ],
      "text/plain": [
       "Solution: \n",
       "The results are very different. Specifically time in hospital has a much smaller effect. Code below:\n",
       "\n",
       "    from matplotlib import pyplot as plt\n",
       "    from sklearn.inspection import PartialDependenceDisplay\n",
       "\n",
       "    feature_name = 'time_in_hospital'\n",
       "    PartialDependenceDisplay.from_estimator(my_model, val_X, [feature_name])\n",
       "    plt.show()"
      ]
     },
     "metadata": {},
     "output_type": "display_data"
    }
   ],
   "source": [
    "# Check your answer (Run this code cell to receive credit!)\n",
    "q_3.solution()"
   ]
  },
  {
   "cell_type": "markdown",
   "id": "2f7be5bc",
   "metadata": {
    "papermill": {
     "duration": 0.011891,
     "end_time": "2024-09-29T22:03:26.772956",
     "exception": false,
     "start_time": "2024-09-29T22:03:26.761065",
     "status": "completed"
    },
    "tags": []
   },
   "source": [
    "## Step 4\n",
    "\n",
    "Woah!  It seems like `time_in_hospital` doesn't matter at all.  The difference between the lowest value on the partial dependence plot and the highest value is about 5%.\n",
    "\n",
    "If that is what your model concluded, the doctors will believe it. But it seems so low. Could  the data be wrong, or is your model doing something more complex than they expect?  \n",
    "\n",
    "They'd like you to show them the raw readmission rate for each value of `time_in_hospital` to see how it compares to the partial dependence plot.\n",
    "\n",
    "- Make that plot. \n",
    "- Are the results similar or different?"
   ]
  },
  {
   "cell_type": "code",
   "execution_count": 10,
   "id": "165efe70",
   "metadata": {
    "execution": {
     "iopub.execute_input": "2024-09-29T22:03:26.799437Z",
     "iopub.status.busy": "2024-09-29T22:03:26.798906Z",
     "iopub.status.idle": "2024-09-29T22:03:26.808378Z",
     "shell.execute_reply": "2024-09-29T22:03:26.806593Z"
    },
    "papermill": {
     "duration": 0.026442,
     "end_time": "2024-09-29T22:03:26.811478",
     "exception": false,
     "start_time": "2024-09-29T22:03:26.785036",
     "status": "completed"
    },
    "tags": []
   },
   "outputs": [
    {
     "data": {
      "text/markdown": [],
      "text/plain": [
       "<learntools.core.constants.PlaceholderValue at 0x7d037b43fee0>"
      ]
     },
     "execution_count": 10,
     "metadata": {},
     "output_type": "execute_result"
    }
   ],
   "source": [
    "# Your Code Here\n",
    "____"
   ]
  },
  {
   "cell_type": "markdown",
   "id": "8b030a63",
   "metadata": {
    "papermill": {
     "duration": 0.011993,
     "end_time": "2024-09-29T22:03:26.835943",
     "exception": false,
     "start_time": "2024-09-29T22:03:26.823950",
     "status": "completed"
    },
    "tags": []
   },
   "source": [
    "For a hint, uncomment the line below."
   ]
  },
  {
   "cell_type": "code",
   "execution_count": 11,
   "id": "0c366cf4",
   "metadata": {
    "execution": {
     "iopub.execute_input": "2024-09-29T22:03:26.862765Z",
     "iopub.status.busy": "2024-09-29T22:03:26.862280Z",
     "iopub.status.idle": "2024-09-29T22:03:26.868352Z",
     "shell.execute_reply": "2024-09-29T22:03:26.867081Z"
    },
    "papermill": {
     "duration": 0.022611,
     "end_time": "2024-09-29T22:03:26.870953",
     "exception": false,
     "start_time": "2024-09-29T22:03:26.848342",
     "status": "completed"
    },
    "tags": []
   },
   "outputs": [],
   "source": [
    "# q_4.hint()"
   ]
  },
  {
   "cell_type": "code",
   "execution_count": 12,
   "id": "10c0d27b",
   "metadata": {
    "execution": {
     "iopub.execute_input": "2024-09-29T22:03:26.898074Z",
     "iopub.status.busy": "2024-09-29T22:03:26.897535Z",
     "iopub.status.idle": "2024-09-29T22:03:26.909200Z",
     "shell.execute_reply": "2024-09-29T22:03:26.907783Z"
    },
    "papermill": {
     "duration": 0.028809,
     "end_time": "2024-09-29T22:03:26.912203",
     "exception": false,
     "start_time": "2024-09-29T22:03:26.883394",
     "status": "completed"
    },
    "tags": []
   },
   "outputs": [
    {
     "data": {
      "application/javascript": [
       "parent.postMessage({\"jupyterEvent\": \"custom.exercise_interaction\", \"data\": {\"interactionType\": 3, \"questionType\": 4, \"questionId\": \"4_RawActualsInsteadOfPDP\", \"learnToolsVersion\": \"0.3.4\", \"valueTowardsCompletion\": 0.0, \"failureMessage\": \"\", \"exceptionClass\": \"\", \"trace\": \"\", \"outcomeType\": 4}}, \"*\")"
      ],
      "text/plain": [
       "<IPython.core.display.Javascript object>"
      ]
     },
     "metadata": {},
     "output_type": "display_data"
    },
    {
     "data": {
      "text/markdown": [
       "<span style=\"color:#33cc99\">Solution:</span> \n",
       "```python\n",
       "\n",
       "# A simple pandas groupby showing the average readmission rate for each time_in_hospital.\n",
       "\n",
       "# Do concat to keep validation data separate, rather than using all original data\n",
       "all_train = pd.concat([train_X, train_y], axis=1)\n",
       "\n",
       "all_train.groupby(['time_in_hospital']).mean().readmitted.plot()\n",
       "plt.show()\n",
       "\n",
       "```"
      ],
      "text/plain": [
       "Solution: \n",
       "```python\n",
       "\n",
       "# A simple pandas groupby showing the average readmission rate for each time_in_hospital.\n",
       "\n",
       "# Do concat to keep validation data separate, rather than using all original data\n",
       "all_train = pd.concat([train_X, train_y], axis=1)\n",
       "\n",
       "all_train.groupby(['time_in_hospital']).mean().readmitted.plot()\n",
       "plt.show()\n",
       "\n",
       "```"
      ]
     },
     "metadata": {},
     "output_type": "display_data"
    }
   ],
   "source": [
    "# Check your answer (Run this code cell to receive credit!)\n",
    "q_4.solution()"
   ]
  },
  {
   "cell_type": "markdown",
   "id": "025ab7f4",
   "metadata": {
    "papermill": {
     "duration": 0.012885,
     "end_time": "2024-09-29T22:03:26.939323",
     "exception": false,
     "start_time": "2024-09-29T22:03:26.926438",
     "status": "completed"
    },
    "tags": []
   },
   "source": [
    "## Step 5\n",
    "Now the doctors are convinced you have the right data, and the model overview looked reasonable.  It's time to turn this into a finished product they can use. Specifically, the hospital wants you to create a function `patient_risk_factors` that does the following\n",
    "- Takes a single row with patient data (of the same format you as your raw data)\n",
    "- Creates a visualization showing what features of that patient increased their risk of readmission, what features decreased it, and how much those features mattered.\n",
    "\n",
    "It's not important to show every feature with every miniscule impact on the readmission risk.  It's fine to focus on only the most important features for that patient."
   ]
  },
  {
   "cell_type": "code",
   "execution_count": 13,
   "id": "b3a8e343",
   "metadata": {
    "execution": {
     "iopub.execute_input": "2024-09-29T22:03:26.968401Z",
     "iopub.status.busy": "2024-09-29T22:03:26.967908Z",
     "iopub.status.idle": "2024-09-29T22:03:26.976602Z",
     "shell.execute_reply": "2024-09-29T22:03:26.974988Z"
    },
    "papermill": {
     "duration": 0.027049,
     "end_time": "2024-09-29T22:03:26.979910",
     "exception": false,
     "start_time": "2024-09-29T22:03:26.952861",
     "status": "completed"
    },
    "tags": []
   },
   "outputs": [
    {
     "data": {
      "text/markdown": [],
      "text/plain": [
       "<learntools.core.constants.PlaceholderValue at 0x7d037b43fee0>"
      ]
     },
     "execution_count": 13,
     "metadata": {},
     "output_type": "execute_result"
    }
   ],
   "source": [
    "# Your Code Here\n",
    "____"
   ]
  },
  {
   "cell_type": "markdown",
   "id": "a06a7643",
   "metadata": {
    "papermill": {
     "duration": 0.012832,
     "end_time": "2024-09-29T22:03:27.006283",
     "exception": false,
     "start_time": "2024-09-29T22:03:26.993451",
     "status": "completed"
    },
    "tags": []
   },
   "source": [
    "For a hint, uncomment the line below."
   ]
  },
  {
   "cell_type": "code",
   "execution_count": 14,
   "id": "3058982b",
   "metadata": {
    "execution": {
     "iopub.execute_input": "2024-09-29T22:03:27.035296Z",
     "iopub.status.busy": "2024-09-29T22:03:27.034805Z",
     "iopub.status.idle": "2024-09-29T22:03:27.041400Z",
     "shell.execute_reply": "2024-09-29T22:03:27.039908Z"
    },
    "papermill": {
     "duration": 0.024398,
     "end_time": "2024-09-29T22:03:27.044579",
     "exception": false,
     "start_time": "2024-09-29T22:03:27.020181",
     "status": "completed"
    },
    "tags": []
   },
   "outputs": [],
   "source": [
    "# q_5.hint()"
   ]
  },
  {
   "cell_type": "code",
   "execution_count": 15,
   "id": "d3dd320e",
   "metadata": {
    "execution": {
     "iopub.execute_input": "2024-09-29T22:03:27.073122Z",
     "iopub.status.busy": "2024-09-29T22:03:27.072643Z",
     "iopub.status.idle": "2024-09-29T22:03:27.083617Z",
     "shell.execute_reply": "2024-09-29T22:03:27.082264Z"
    },
    "papermill": {
     "duration": 0.028756,
     "end_time": "2024-09-29T22:03:27.086759",
     "exception": false,
     "start_time": "2024-09-29T22:03:27.058003",
     "status": "completed"
    },
    "tags": []
   },
   "outputs": [
    {
     "data": {
      "application/javascript": [
       "parent.postMessage({\"jupyterEvent\": \"custom.exercise_interaction\", \"data\": {\"interactionType\": 3, \"questionType\": 4, \"questionId\": \"5_UseShap\", \"learnToolsVersion\": \"0.3.4\", \"valueTowardsCompletion\": 0.0, \"failureMessage\": \"\", \"exceptionClass\": \"\", \"trace\": \"\", \"outcomeType\": 4}}, \"*\")"
      ],
      "text/plain": [
       "<IPython.core.display.Javascript object>"
      ]
     },
     "metadata": {},
     "output_type": "display_data"
    },
    {
     "data": {
      "text/markdown": [
       "<span style=\"color:#33cc99\">Solution:</span> \n",
       "```python\n",
       "\n",
       "# Use SHAP values to show the effect of each feature of a given patient\n",
       "\n",
       "import shap  # package used to calculate Shap values\n",
       "\n",
       "sample_data_for_prediction = val_X.iloc[0].astype(float)  # to test function\n",
       "\n",
       "def patient_risk_factors(model, patient_data):\n",
       "    # Create object that can calculate shap values\n",
       "    explainer = shap.TreeExplainer(model)\n",
       "    shap_values = explainer.shap_values(patient_data)\n",
       "    shap.initjs()\n",
       "    return shap.force_plot(explainer.expected_value[1], shap_values[1], patient_data)\n",
       "\n",
       "\n",
       "```"
      ],
      "text/plain": [
       "Solution: \n",
       "```python\n",
       "\n",
       "# Use SHAP values to show the effect of each feature of a given patient\n",
       "\n",
       "import shap  # package used to calculate Shap values\n",
       "\n",
       "sample_data_for_prediction = val_X.iloc[0].astype(float)  # to test function\n",
       "\n",
       "def patient_risk_factors(model, patient_data):\n",
       "    # Create object that can calculate shap values\n",
       "    explainer = shap.TreeExplainer(model)\n",
       "    shap_values = explainer.shap_values(patient_data)\n",
       "    shap.initjs()\n",
       "    return shap.force_plot(explainer.expected_value[1], shap_values[1], patient_data)\n",
       "\n",
       "\n",
       "```"
      ]
     },
     "metadata": {},
     "output_type": "display_data"
    }
   ],
   "source": [
    "# Check your answer (Run this code cell to receive credit!)\n",
    "q_5.solution()"
   ]
  },
  {
   "cell_type": "markdown",
   "id": "9ce90eb4",
   "metadata": {
    "papermill": {
     "duration": 0.013966,
     "end_time": "2024-09-29T22:03:27.115758",
     "exception": false,
     "start_time": "2024-09-29T22:03:27.101792",
     "status": "completed"
    },
    "tags": []
   },
   "source": [
    "## Keep Going\n",
    "You have some powerful tools to get insights about both models and individual predictions. Next you will look at **[aggregations of SHAP values](https://www.kaggle.com/dansbecker/advanced-uses-of-shap-values)** to link the model-level and prediction-level insights.\n"
   ]
  },
  {
   "cell_type": "markdown",
   "id": "e6eab6b0",
   "metadata": {
    "papermill": {
     "duration": 0.013549,
     "end_time": "2024-09-29T22:03:27.143582",
     "exception": false,
     "start_time": "2024-09-29T22:03:27.130033",
     "status": "completed"
    },
    "tags": []
   },
   "source": [
    "---\n",
    "\n",
    "\n",
    "\n",
    "\n",
    "*Have questions or comments? Visit the [course discussion forum](https://www.kaggle.com/learn/machine-learning-explainability/discussion) to chat with other learners.*"
   ]
  }
 ],
 "metadata": {
  "kaggle": {
   "accelerator": "none",
   "dataSources": [
    {
     "datasetId": 32736,
     "sourceId": 57051,
     "sourceType": "datasetVersion"
    },
    {
     "datasetId": 52431,
     "sourceId": 98041,
     "sourceType": "datasetVersion"
    },
    {
     "datasetId": 52463,
     "sourceId": 98217,
     "sourceType": "datasetVersion"
    }
   ],
   "isGpuEnabled": false,
   "isInternetEnabled": true,
   "language": "python",
   "sourceType": "notebook"
  },
  "kernelspec": {
   "display_name": "Python 3",
   "language": "python",
   "name": "python3"
  },
  "language_info": {
   "codemirror_mode": {
    "name": "ipython",
    "version": 3
   },
   "file_extension": ".py",
   "mimetype": "text/x-python",
   "name": "python",
   "nbconvert_exporter": "python",
   "pygments_lexer": "ipython3",
   "version": "3.10.14"
  },
  "papermill": {
   "default_parameters": {},
   "duration": 77.432367,
   "end_time": "2024-09-29T22:03:29.289304",
   "environment_variables": {},
   "exception": null,
   "input_path": "__notebook__.ipynb",
   "output_path": "__notebook__.ipynb",
   "parameters": {},
   "start_time": "2024-09-29T22:02:11.856937",
   "version": "2.6.0"
  }
 },
 "nbformat": 4,
 "nbformat_minor": 5
}
