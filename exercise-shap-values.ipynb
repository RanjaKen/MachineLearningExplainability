{
 "cells": [
  {
   "cell_type": "markdown",
   "id": "870f03d2",
   "metadata": {
    "papermill": {
     "duration": 0.00676,
     "end_time": "2024-09-29T21:57:08.022766",
     "exception": false,
     "start_time": "2024-09-29T21:57:08.016006",
     "status": "completed"
    },
    "tags": []
   },
   "source": [
    "**This notebook is an exercise in the [Machine Learning Explainability](https://www.kaggle.com/learn/machine-learning-explainability) course.  You can reference the tutorial at [this link](https://www.kaggle.com/dansbecker/shap-values).**\n",
    "\n",
    "---\n"
   ]
  },
  {
   "cell_type": "markdown",
   "id": "13631f9e",
   "metadata": {
    "papermill": {
     "duration": 0.005716,
     "end_time": "2024-09-29T21:57:08.034549",
     "exception": false,
     "start_time": "2024-09-29T21:57:08.028833",
     "status": "completed"
    },
    "tags": []
   },
   "source": [
    "## Set Up\n",
    "\n",
    "At this point, you have enough tools to put together compelling solutions to real-world problems. You will ned to pick the right techniques for each part of the following data science scenario. Along the way, you'll use SHAP values along with your other insights tools.\n",
    "\n",
    "**The questions below give you feedback on your work by using some checking code. Run the following cell to set up our feedback system.**"
   ]
  },
  {
   "cell_type": "code",
   "execution_count": 1,
   "id": "ad09bfa4",
   "metadata": {
    "execution": {
     "iopub.execute_input": "2024-09-29T21:57:08.048023Z",
     "iopub.status.busy": "2024-09-29T21:57:08.047610Z",
     "iopub.status.idle": "2024-09-29T21:57:33.719022Z",
     "shell.execute_reply": "2024-09-29T21:57:33.717680Z"
    },
    "papermill": {
     "duration": 25.680927,
     "end_time": "2024-09-29T21:57:33.721361",
     "exception": false,
     "start_time": "2024-09-29T21:57:08.040434",
     "status": "completed"
    },
    "tags": []
   },
   "outputs": [
    {
     "name": "stdout",
     "output_type": "stream",
     "text": [
      "Collecting git+https://github.com/Kaggle/learntools.git\r\n",
      "  Cloning https://github.com/Kaggle/learntools.git to /tmp/pip-req-build-_0v_wqn8\r\n",
      "  Running command git clone --filter=blob:none --quiet https://github.com/Kaggle/learntools.git /tmp/pip-req-build-_0v_wqn8\r\n",
      "  Resolved https://github.com/Kaggle/learntools.git to commit ca2a51ee0085e4943cadaf5e9fe7dce2ec947d3c\r\n",
      "  Preparing metadata (setup.py) ... \u001b[?25ldone\r\n",
      "\u001b[?25hBuilding wheels for collected packages: learntools\r\n",
      "  Building wheel for learntools (setup.py) ... \u001b[?25l-\b \bdone\r\n",
      "\u001b[?25h  Created wheel for learntools: filename=learntools-0.3.4-py3-none-any.whl size=268968 sha256=34442227bd5b06ccbb8006c16dc7091a39c57c6bd93dd20752d6ff5f1f37a3f4\r\n",
      "  Stored in directory: /tmp/pip-ephem-wheel-cache-kq34xtgu/wheels/2f/6c/3c/aa9f50cfb5a862157cb4c7a5b34881828cf45404698255dced\r\n",
      "Successfully built learntools\r\n",
      "Installing collected packages: learntools\r\n",
      "Successfully installed learntools-0.3.4\r\n",
      "Setup Complete\n"
     ]
    }
   ],
   "source": [
    "# Get most recent checking code\n",
    "!pip install -U -t /kaggle/working/ git+https://github.com/Kaggle/learntools.git\n",
    "from learntools.ml_explainability.ex4 import *\n",
    "print(\"Setup Complete\")"
   ]
  },
  {
   "cell_type": "markdown",
   "id": "0fcae94a",
   "metadata": {
    "papermill": {
     "duration": 0.0063,
     "end_time": "2024-09-29T21:57:33.734509",
     "exception": false,
     "start_time": "2024-09-29T21:57:33.728209",
     "status": "completed"
    },
    "tags": []
   },
   "source": [
    "## The Scenario\n",
    "A hospital has struggled with \"readmissions,\" where they release a patient before the patient has recovered enough, and the patient returns with health complications. \n",
    "\n",
    "The hospital wants your help identifying patients at highest risk of being readmitted. Doctors (rather than your model) will make the final decision about when to release each patient; but they hope your model will highlight issues the doctors should consider when releasing a patient.\n",
    "\n",
    "The hospital has given you relevant patient medical information.  Here is a list of columns in the data:\n"
   ]
  },
  {
   "cell_type": "code",
   "execution_count": 2,
   "id": "0d259d74",
   "metadata": {
    "execution": {
     "iopub.execute_input": "2024-09-29T21:57:33.750035Z",
     "iopub.status.busy": "2024-09-29T21:57:33.749046Z",
     "iopub.status.idle": "2024-09-29T21:57:34.016752Z",
     "shell.execute_reply": "2024-09-29T21:57:34.015719Z"
    },
    "papermill": {
     "duration": 0.278105,
     "end_time": "2024-09-29T21:57:34.019245",
     "exception": false,
     "start_time": "2024-09-29T21:57:33.741140",
     "status": "completed"
    },
    "tags": []
   },
   "outputs": [
    {
     "data": {
      "text/plain": [
       "Index(['time_in_hospital', 'num_lab_procedures', 'num_procedures',\n",
       "       'num_medications', 'number_outpatient', 'number_emergency',\n",
       "       'number_inpatient', 'number_diagnoses', 'race_Caucasian',\n",
       "       'race_AfricanAmerican', 'gender_Female', 'age_[70-80)', 'age_[60-70)',\n",
       "       'age_[50-60)', 'age_[80-90)', 'age_[40-50)', 'payer_code_?',\n",
       "       'payer_code_MC', 'payer_code_HM', 'payer_code_SP', 'payer_code_BC',\n",
       "       'medical_specialty_?', 'medical_specialty_InternalMedicine',\n",
       "       'medical_specialty_Emergency/Trauma',\n",
       "       'medical_specialty_Family/GeneralPractice',\n",
       "       'medical_specialty_Cardiology', 'diag_1_428', 'diag_1_414',\n",
       "       'diag_1_786', 'diag_2_276', 'diag_2_428', 'diag_2_250', 'diag_2_427',\n",
       "       'diag_3_250', 'diag_3_401', 'diag_3_276', 'diag_3_428',\n",
       "       'max_glu_serum_None', 'A1Cresult_None', 'metformin_No',\n",
       "       'repaglinide_No', 'nateglinide_No', 'chlorpropamide_No',\n",
       "       'glimepiride_No', 'acetohexamide_No', 'glipizide_No', 'glyburide_No',\n",
       "       'tolbutamide_No', 'pioglitazone_No', 'rosiglitazone_No', 'acarbose_No',\n",
       "       'miglitol_No', 'troglitazone_No', 'tolazamide_No', 'examide_No',\n",
       "       'citoglipton_No', 'insulin_No', 'glyburide-metformin_No',\n",
       "       'glipizide-metformin_No', 'glimepiride-pioglitazone_No',\n",
       "       'metformin-rosiglitazone_No', 'metformin-pioglitazone_No', 'change_No',\n",
       "       'diabetesMed_Yes', 'readmitted'],\n",
       "      dtype='object')"
      ]
     },
     "execution_count": 2,
     "metadata": {},
     "output_type": "execute_result"
    }
   ],
   "source": [
    "import pandas as pd\n",
    "data = pd.read_csv('../input/hospital-readmissions/train.csv')\n",
    "data.columns"
   ]
  },
  {
   "cell_type": "markdown",
   "id": "41458f79",
   "metadata": {
    "papermill": {
     "duration": 0.006389,
     "end_time": "2024-09-29T21:57:34.033396",
     "exception": false,
     "start_time": "2024-09-29T21:57:34.027007",
     "status": "completed"
    },
    "tags": []
   },
   "source": [
    "Here are some quick hints at interpreting the field names:\n",
    "\n",
    "- Your prediction target is `readmitted`\n",
    "- Columns with the word `diag` indicate the diagnostic code of the illness or illnesses the patient was admitted with. For example, `diag_1_428` means the doctor said their first illness diagnosis is number \"428\".  What illness does 428 correspond to? You could look it up in a codebook, but without more medical background it wouldn't mean anything to you anyway.\n",
    "- A column names like `glimepiride_No` mean the patient did not have the medicine `glimepiride`. If this feature had a value of False, then the patient did take the drug `glimepiride`\n",
    "- Features whose names begin with `medical_specialty` describe the specialty of the doctor seeing the patient. The values in these fields are all `True` or `False`.\n"
   ]
  },
  {
   "cell_type": "markdown",
   "id": "286efb30",
   "metadata": {
    "papermill": {
     "duration": 0.006344,
     "end_time": "2024-09-29T21:57:34.046573",
     "exception": false,
     "start_time": "2024-09-29T21:57:34.040229",
     "status": "completed"
    },
    "tags": []
   },
   "source": [
    "## Your Code Library\n",
    "As you write code to work through this scenario, these code snippets from previous tutorials may be useful. You'll still need to modify them, but we've copied them here to save you from having to look them up.\n",
    "\n",
    "**Calculate and show permutation importance:**\n",
    "```\n",
    "import eli5\n",
    "from eli5.sklearn import PermutationImportance\n",
    "\n",
    "perm = PermutationImportance(my_model, random_state=1).fit(val_X, val_y)\n",
    "eli5.show_weights(perm, feature_names = val_X.columns.tolist())\n",
    "```\n",
    "\n",
    "**Calculate and show partial dependence plot:**\n",
    "```\n",
    "from matplotlib import pyplot as plt\n",
    "from sklearn.inspection import PartialDependenceDisplay\n",
    "\n",
    "feature_name = 'Goal Scored'\n",
    "PartialDependenceDisplay.from_estimator(my_model, val_X, [feature_name])\n",
    "plt.show()\n",
    "```\n",
    "\n",
    "**Calculate and show Shap Values for One Prediction:**\n",
    "```\n",
    "import shap  # package used to calculate Shap values\n",
    "\n",
    "data_for_prediction = val_X.iloc[0,:]  # use 1 row of data here. Could use multiple rows if desired\n",
    "\n",
    "# Create object that can calculate shap values\n",
    "explainer = shap.TreeExplainer(my_model)\n",
    "shap_values = explainer.shap_values(data_for_prediction)\n",
    "shap.initjs()\n",
    "shap.force_plot(explainer.expected_value[0], shap_values[0], data_for_prediction)\n",
    "```\n",
    "\n",
    "## Step 1\n",
    "You have built a simple model, but the doctors say they don't know how to evaluate a model, and they'd like you to show them some evidence the model is doing something in line with their medical intuition. Create any graphics or tables that will show them a quick overview of what the model is doing?\n",
    "\n",
    "They are very busy. So they want you to condense your model overview into just 1 or 2 graphics, rather than a long string of graphics.\n",
    "\n",
    "We'll start after the point where you've built a basic model. Just run the following cell to build the model called `my_model`."
   ]
  },
  {
   "cell_type": "code",
   "execution_count": 3,
   "id": "699c5fbe",
   "metadata": {
    "execution": {
     "iopub.execute_input": "2024-09-29T21:57:34.061490Z",
     "iopub.status.busy": "2024-09-29T21:57:34.061098Z",
     "iopub.status.idle": "2024-09-29T21:57:36.835829Z",
     "shell.execute_reply": "2024-09-29T21:57:36.834605Z"
    },
    "papermill": {
     "duration": 2.785192,
     "end_time": "2024-09-29T21:57:36.838413",
     "exception": false,
     "start_time": "2024-09-29T21:57:34.053221",
     "status": "completed"
    },
    "tags": []
   },
   "outputs": [],
   "source": [
    "import pandas as pd\n",
    "from sklearn.ensemble import RandomForestClassifier\n",
    "from sklearn.model_selection import train_test_split\n",
    "\n",
    "data = pd.read_csv('../input/hospital-readmissions/train.csv')\n",
    "\n",
    "y = data.readmitted\n",
    "\n",
    "base_features = [c for c in data.columns if c != \"readmitted\"]\n",
    "\n",
    "X = data[base_features]\n",
    "\n",
    "train_X, val_X, train_y, val_y = train_test_split(X, y, random_state=1)\n",
    "my_model = RandomForestClassifier(n_estimators=30, random_state=1).fit(train_X, train_y)"
   ]
  },
  {
   "cell_type": "markdown",
   "id": "c203a0f7",
   "metadata": {
    "papermill": {
     "duration": 0.006829,
     "end_time": "2024-09-29T21:57:36.852272",
     "exception": false,
     "start_time": "2024-09-29T21:57:36.845443",
     "status": "completed"
    },
    "tags": []
   },
   "source": [
    "Now use the following cell to create the materials for the doctors."
   ]
  },
  {
   "cell_type": "code",
   "execution_count": 4,
   "id": "76115b92",
   "metadata": {
    "execution": {
     "iopub.execute_input": "2024-09-29T21:57:36.868181Z",
     "iopub.status.busy": "2024-09-29T21:57:36.867001Z",
     "iopub.status.idle": "2024-09-29T21:57:50.668150Z",
     "shell.execute_reply": "2024-09-29T21:57:50.666872Z"
    },
    "papermill": {
     "duration": 13.811633,
     "end_time": "2024-09-29T21:57:50.670592",
     "exception": false,
     "start_time": "2024-09-29T21:57:36.858959",
     "status": "completed"
    },
    "tags": []
   },
   "outputs": [],
   "source": [
    "# Your code here\n",
    "import eli5\n",
    "from eli5.sklearn import PermutationImportance"
   ]
  },
  {
   "cell_type": "markdown",
   "id": "7985cdea",
   "metadata": {
    "papermill": {
     "duration": 0.006474,
     "end_time": "2024-09-29T21:57:50.684029",
     "exception": false,
     "start_time": "2024-09-29T21:57:50.677555",
     "status": "completed"
    },
    "tags": []
   },
   "source": [
    "For our idea of what to show, run the cell below.  "
   ]
  },
  {
   "cell_type": "code",
   "execution_count": 5,
   "id": "b810015f",
   "metadata": {
    "execution": {
     "iopub.execute_input": "2024-09-29T21:57:50.700291Z",
     "iopub.status.busy": "2024-09-29T21:57:50.698915Z",
     "iopub.status.idle": "2024-09-29T21:57:50.708017Z",
     "shell.execute_reply": "2024-09-29T21:57:50.706966Z"
    },
    "papermill": {
     "duration": 0.019289,
     "end_time": "2024-09-29T21:57:50.710138",
     "exception": false,
     "start_time": "2024-09-29T21:57:50.690849",
     "status": "completed"
    },
    "tags": []
   },
   "outputs": [
    {
     "data": {
      "application/javascript": [
       "parent.postMessage({\"jupyterEvent\": \"custom.exercise_interaction\", \"data\": {\"interactionType\": 3, \"questionType\": 4, \"questionId\": \"1_SummarizeModel\", \"learnToolsVersion\": \"0.3.4\", \"valueTowardsCompletion\": 0.0, \"failureMessage\": \"\", \"exceptionClass\": \"\", \"trace\": \"\", \"outcomeType\": 4}}, \"*\")"
      ],
      "text/plain": [
       "<IPython.core.display.Javascript object>"
      ]
     },
     "metadata": {},
     "output_type": "display_data"
    },
    {
     "data": {
      "text/markdown": [
       "<span style=\"color:#33cc99\">Solution:</span> \n",
       "```python\n",
       "\n",
       "# Use permutation importance as a succinct model summary\n",
       "# A measure of model performance on validation data would be useful here too\n",
       "\n",
       "import eli5\n",
       "from eli5.sklearn import PermutationImportance\n",
       "\n",
       "perm = PermutationImportance(my_model, random_state=1).fit(val_X, val_y)\n",
       "eli5.show_weights(perm, feature_names = val_X.columns.tolist())\n",
       "\n",
       "```"
      ],
      "text/plain": [
       "Solution: \n",
       "```python\n",
       "\n",
       "# Use permutation importance as a succinct model summary\n",
       "# A measure of model performance on validation data would be useful here too\n",
       "\n",
       "import eli5\n",
       "from eli5.sklearn import PermutationImportance\n",
       "\n",
       "perm = PermutationImportance(my_model, random_state=1).fit(val_X, val_y)\n",
       "eli5.show_weights(perm, feature_names = val_X.columns.tolist())\n",
       "\n",
       "```"
      ]
     },
     "metadata": {},
     "output_type": "display_data"
    }
   ],
   "source": [
    "# Run this code cell to receive credit!\n",
    "q_1.solution()"
   ]
  },
  {
   "cell_type": "markdown",
   "id": "f2da249d",
   "metadata": {
    "papermill": {
     "duration": 0.007,
     "end_time": "2024-09-29T21:57:50.724770",
     "exception": false,
     "start_time": "2024-09-29T21:57:50.717770",
     "status": "completed"
    },
    "tags": []
   },
   "source": [
    "If you'd like to discuss your approach or see what others have done, we have a discussion forum [here](https://www.kaggle.com/learn-forum/66267#latest-390149).\n",
    "\n"
   ]
  },
  {
   "cell_type": "markdown",
   "id": "3448b38c",
   "metadata": {
    "papermill": {
     "duration": 0.006713,
     "end_time": "2024-09-29T21:57:50.738654",
     "exception": false,
     "start_time": "2024-09-29T21:57:50.731941",
     "status": "completed"
    },
    "tags": []
   },
   "source": [
    "## Step 2\n",
    "\n",
    "It appears `number_inpatient` is a really important feature. The doctors would like to know more about that. Create a graph for them that shows how `num_inpatient` affects the model's predictions."
   ]
  },
  {
   "cell_type": "code",
   "execution_count": 6,
   "id": "64bed709",
   "metadata": {
    "execution": {
     "iopub.execute_input": "2024-09-29T21:57:50.754826Z",
     "iopub.status.busy": "2024-09-29T21:57:50.754001Z",
     "iopub.status.idle": "2024-09-29T21:57:50.760499Z",
     "shell.execute_reply": "2024-09-29T21:57:50.759449Z"
    },
    "papermill": {
     "duration": 0.016963,
     "end_time": "2024-09-29T21:57:50.762722",
     "exception": false,
     "start_time": "2024-09-29T21:57:50.745759",
     "status": "completed"
    },
    "tags": []
   },
   "outputs": [
    {
     "data": {
      "text/markdown": [],
      "text/plain": [
       "<learntools.core.constants.PlaceholderValue at 0x793fe351feb0>"
      ]
     },
     "execution_count": 6,
     "metadata": {},
     "output_type": "execute_result"
    }
   ],
   "source": [
    "# Your Code Here\n",
    "____"
   ]
  },
  {
   "cell_type": "markdown",
   "id": "83dd207b",
   "metadata": {
    "papermill": {
     "duration": 0.007008,
     "end_time": "2024-09-29T21:57:50.776958",
     "exception": false,
     "start_time": "2024-09-29T21:57:50.769950",
     "status": "completed"
    },
    "tags": []
   },
   "source": [
    "For our solution, run the line below."
   ]
  },
  {
   "cell_type": "code",
   "execution_count": 7,
   "id": "1cb03808",
   "metadata": {
    "execution": {
     "iopub.execute_input": "2024-09-29T21:57:50.793221Z",
     "iopub.status.busy": "2024-09-29T21:57:50.792771Z",
     "iopub.status.idle": "2024-09-29T21:57:50.801951Z",
     "shell.execute_reply": "2024-09-29T21:57:50.800869Z"
    },
    "papermill": {
     "duration": 0.020175,
     "end_time": "2024-09-29T21:57:50.804443",
     "exception": false,
     "start_time": "2024-09-29T21:57:50.784268",
     "status": "completed"
    },
    "tags": []
   },
   "outputs": [
    {
     "data": {
      "application/javascript": [
       "parent.postMessage({\"jupyterEvent\": \"custom.exercise_interaction\", \"data\": {\"interactionType\": 3, \"questionType\": 4, \"questionId\": \"2_EffectNumInpatient\", \"learnToolsVersion\": \"0.3.4\", \"valueTowardsCompletion\": 0.0, \"failureMessage\": \"\", \"exceptionClass\": \"\", \"trace\": \"\", \"outcomeType\": 4}}, \"*\")"
      ],
      "text/plain": [
       "<IPython.core.display.Javascript object>"
      ]
     },
     "metadata": {},
     "output_type": "display_data"
    },
    {
     "data": {
      "text/markdown": [
       "<span style=\"color:#33cc99\">Solution:</span> \n",
       "```python\n",
       "\n",
       "# PDP for number_inpatient feature\n",
       "\n",
       "from matplotlib import pyplot as plt\n",
       "from sklearn.inspection import PartialDependenceDisplay\n",
       "\n",
       "feature_name = 'number_inpatient'\n",
       "PartialDependenceDisplay.from_estimator(my_model, val_X, [feature_name])\n",
       "plt.show()\n",
       "\n",
       "```"
      ],
      "text/plain": [
       "Solution: \n",
       "```python\n",
       "\n",
       "# PDP for number_inpatient feature\n",
       "\n",
       "from matplotlib import pyplot as plt\n",
       "from sklearn.inspection import PartialDependenceDisplay\n",
       "\n",
       "feature_name = 'number_inpatient'\n",
       "PartialDependenceDisplay.from_estimator(my_model, val_X, [feature_name])\n",
       "plt.show()\n",
       "\n",
       "```"
      ]
     },
     "metadata": {},
     "output_type": "display_data"
    }
   ],
   "source": [
    "# Check your answer (Run this code cell to receive credit!)\n",
    "q_2.solution()"
   ]
  },
  {
   "cell_type": "markdown",
   "id": "4e64d064",
   "metadata": {
    "papermill": {
     "duration": 0.007378,
     "end_time": "2024-09-29T21:57:50.819523",
     "exception": false,
     "start_time": "2024-09-29T21:57:50.812145",
     "status": "completed"
    },
    "tags": []
   },
   "source": [
    "## Step 3\n",
    "\n",
    "The doctors think it's a good sign that increasing the number of inpatient procedures leads to increased predictions.  But they can't tell from this plot whether that change in the plot is big or small. They'd like you to create something similar for `time_in_hospital` to see how that compares."
   ]
  },
  {
   "cell_type": "code",
   "execution_count": 8,
   "id": "99a75216",
   "metadata": {
    "execution": {
     "iopub.execute_input": "2024-09-29T21:57:50.836950Z",
     "iopub.status.busy": "2024-09-29T21:57:50.836061Z",
     "iopub.status.idle": "2024-09-29T21:57:50.842460Z",
     "shell.execute_reply": "2024-09-29T21:57:50.841469Z"
    },
    "papermill": {
     "duration": 0.017554,
     "end_time": "2024-09-29T21:57:50.844683",
     "exception": false,
     "start_time": "2024-09-29T21:57:50.827129",
     "status": "completed"
    },
    "tags": []
   },
   "outputs": [
    {
     "data": {
      "text/markdown": [],
      "text/plain": [
       "<learntools.core.constants.PlaceholderValue at 0x793fe351feb0>"
      ]
     },
     "execution_count": 8,
     "metadata": {},
     "output_type": "execute_result"
    }
   ],
   "source": [
    "# Your Code Here\n",
    "____"
   ]
  },
  {
   "cell_type": "markdown",
   "id": "2840da22",
   "metadata": {
    "papermill": {
     "duration": 0.007558,
     "end_time": "2024-09-29T21:57:50.859951",
     "exception": false,
     "start_time": "2024-09-29T21:57:50.852393",
     "status": "completed"
    },
    "tags": []
   },
   "source": [
    "Uncomment the relevant line below to see one solution."
   ]
  },
  {
   "cell_type": "code",
   "execution_count": 9,
   "id": "2dc6c3c7",
   "metadata": {
    "execution": {
     "iopub.execute_input": "2024-09-29T21:57:50.877132Z",
     "iopub.status.busy": "2024-09-29T21:57:50.876691Z",
     "iopub.status.idle": "2024-09-29T21:57:50.885081Z",
     "shell.execute_reply": "2024-09-29T21:57:50.884010Z"
    },
    "papermill": {
     "duration": 0.019808,
     "end_time": "2024-09-29T21:57:50.887487",
     "exception": false,
     "start_time": "2024-09-29T21:57:50.867679",
     "status": "completed"
    },
    "tags": []
   },
   "outputs": [
    {
     "data": {
      "application/javascript": [
       "parent.postMessage({\"jupyterEvent\": \"custom.exercise_interaction\", \"data\": {\"interactionType\": 3, \"questionType\": 4, \"questionId\": \"3_EffectTimeInHospital\", \"learnToolsVersion\": \"0.3.4\", \"valueTowardsCompletion\": 0.0, \"failureMessage\": \"\", \"exceptionClass\": \"\", \"trace\": \"\", \"outcomeType\": 4}}, \"*\")"
      ],
      "text/plain": [
       "<IPython.core.display.Javascript object>"
      ]
     },
     "metadata": {},
     "output_type": "display_data"
    },
    {
     "data": {
      "text/markdown": [
       "<span style=\"color:#33cc99\">Solution:</span> \n",
       "The results are very different. Specifically time in hospital has a much smaller effect. Code below:\n",
       "\n",
       "    from matplotlib import pyplot as plt\n",
       "    from sklearn.inspection import PartialDependenceDisplay\n",
       "\n",
       "    feature_name = 'time_in_hospital'\n",
       "    PartialDependenceDisplay.from_estimator(my_model, val_X, [feature_name])\n",
       "    plt.show()\n"
      ],
      "text/plain": [
       "Solution: \n",
       "The results are very different. Specifically time in hospital has a much smaller effect. Code below:\n",
       "\n",
       "    from matplotlib import pyplot as plt\n",
       "    from sklearn.inspection import PartialDependenceDisplay\n",
       "\n",
       "    feature_name = 'time_in_hospital'\n",
       "    PartialDependenceDisplay.from_estimator(my_model, val_X, [feature_name])\n",
       "    plt.show()"
      ]
     },
     "metadata": {},
     "output_type": "display_data"
    }
   ],
   "source": [
    "# Check your answer (Run this code cell to receive credit!)\n",
    "q_3.solution()"
   ]
  },
  {
   "cell_type": "markdown",
   "id": "afbe0033",
   "metadata": {
    "papermill": {
     "duration": 0.007875,
     "end_time": "2024-09-29T21:57:50.903526",
     "exception": false,
     "start_time": "2024-09-29T21:57:50.895651",
     "status": "completed"
    },
    "tags": []
   },
   "source": [
    "## Step 4\n",
    "\n",
    "Woah!  It seems like `time_in_hospital` doesn't matter at all.  The difference between the lowest value on the partial dependence plot and the highest value is about 5%.\n",
    "\n",
    "If that is what your model concluded, the doctors will believe it. But it seems so low. Could  the data be wrong, or is your model doing something more complex than they expect?  \n",
    "\n",
    "They'd like you to show them the raw readmission rate for each value of `time_in_hospital` to see how it compares to the partial dependence plot.\n",
    "\n",
    "- Make that plot. \n",
    "- Are the results similar or different?"
   ]
  },
  {
   "cell_type": "code",
   "execution_count": 10,
   "id": "c4cd1565",
   "metadata": {
    "execution": {
     "iopub.execute_input": "2024-09-29T21:57:50.921655Z",
     "iopub.status.busy": "2024-09-29T21:57:50.920863Z",
     "iopub.status.idle": "2024-09-29T21:57:50.927813Z",
     "shell.execute_reply": "2024-09-29T21:57:50.926742Z"
    },
    "papermill": {
     "duration": 0.018702,
     "end_time": "2024-09-29T21:57:50.930147",
     "exception": false,
     "start_time": "2024-09-29T21:57:50.911445",
     "status": "completed"
    },
    "tags": []
   },
   "outputs": [
    {
     "data": {
      "text/markdown": [],
      "text/plain": [
       "<learntools.core.constants.PlaceholderValue at 0x793fe351feb0>"
      ]
     },
     "execution_count": 10,
     "metadata": {},
     "output_type": "execute_result"
    }
   ],
   "source": [
    "# Your Code Here\n",
    "____"
   ]
  },
  {
   "cell_type": "markdown",
   "id": "6ce2bbbf",
   "metadata": {
    "papermill": {
     "duration": 0.008074,
     "end_time": "2024-09-29T21:57:50.946663",
     "exception": false,
     "start_time": "2024-09-29T21:57:50.938589",
     "status": "completed"
    },
    "tags": []
   },
   "source": [
    "For a hint, uncomment the line below."
   ]
  },
  {
   "cell_type": "code",
   "execution_count": 11,
   "id": "a1358e26",
   "metadata": {
    "execution": {
     "iopub.execute_input": "2024-09-29T21:57:50.965495Z",
     "iopub.status.busy": "2024-09-29T21:57:50.964610Z",
     "iopub.status.idle": "2024-09-29T21:57:50.969303Z",
     "shell.execute_reply": "2024-09-29T21:57:50.968231Z"
    },
    "papermill": {
     "duration": 0.016636,
     "end_time": "2024-09-29T21:57:50.971602",
     "exception": false,
     "start_time": "2024-09-29T21:57:50.954966",
     "status": "completed"
    },
    "tags": []
   },
   "outputs": [],
   "source": [
    "# q_4.hint()"
   ]
  },
  {
   "cell_type": "code",
   "execution_count": 12,
   "id": "1250386b",
   "metadata": {
    "execution": {
     "iopub.execute_input": "2024-09-29T21:57:50.989998Z",
     "iopub.status.busy": "2024-09-29T21:57:50.989564Z",
     "iopub.status.idle": "2024-09-29T21:57:50.997925Z",
     "shell.execute_reply": "2024-09-29T21:57:50.996964Z"
    },
    "papermill": {
     "duration": 0.020085,
     "end_time": "2024-09-29T21:57:51.000119",
     "exception": false,
     "start_time": "2024-09-29T21:57:50.980034",
     "status": "completed"
    },
    "tags": []
   },
   "outputs": [
    {
     "data": {
      "application/javascript": [
       "parent.postMessage({\"jupyterEvent\": \"custom.exercise_interaction\", \"data\": {\"interactionType\": 3, \"questionType\": 4, \"questionId\": \"4_RawActualsInsteadOfPDP\", \"learnToolsVersion\": \"0.3.4\", \"valueTowardsCompletion\": 0.0, \"failureMessage\": \"\", \"exceptionClass\": \"\", \"trace\": \"\", \"outcomeType\": 4}}, \"*\")"
      ],
      "text/plain": [
       "<IPython.core.display.Javascript object>"
      ]
     },
     "metadata": {},
     "output_type": "display_data"
    },
    {
     "data": {
      "text/markdown": [
       "<span style=\"color:#33cc99\">Solution:</span> \n",
       "```python\n",
       "\n",
       "# A simple pandas groupby showing the average readmission rate for each time_in_hospital.\n",
       "\n",
       "# Do concat to keep validation data separate, rather than using all original data\n",
       "all_train = pd.concat([train_X, train_y], axis=1)\n",
       "\n",
       "all_train.groupby(['time_in_hospital']).mean().readmitted.plot()\n",
       "plt.show()\n",
       "\n",
       "```"
      ],
      "text/plain": [
       "Solution: \n",
       "```python\n",
       "\n",
       "# A simple pandas groupby showing the average readmission rate for each time_in_hospital.\n",
       "\n",
       "# Do concat to keep validation data separate, rather than using all original data\n",
       "all_train = pd.concat([train_X, train_y], axis=1)\n",
       "\n",
       "all_train.groupby(['time_in_hospital']).mean().readmitted.plot()\n",
       "plt.show()\n",
       "\n",
       "```"
      ]
     },
     "metadata": {},
     "output_type": "display_data"
    }
   ],
   "source": [
    "# Check your answer (Run this code cell to receive credit!)\n",
    "q_4.solution()"
   ]
  },
  {
   "cell_type": "markdown",
   "id": "4b44370a",
   "metadata": {
    "papermill": {
     "duration": 0.008261,
     "end_time": "2024-09-29T21:57:51.017122",
     "exception": false,
     "start_time": "2024-09-29T21:57:51.008861",
     "status": "completed"
    },
    "tags": []
   },
   "source": [
    "## Step 5\n",
    "Now the doctors are convinced you have the right data, and the model overview looked reasonable.  It's time to turn this into a finished product they can use. Specifically, the hospital wants you to create a function `patient_risk_factors` that does the following\n",
    "- Takes a single row with patient data (of the same format you as your raw data)\n",
    "- Creates a visualization showing what features of that patient increased their risk of readmission, what features decreased it, and how much those features mattered.\n",
    "\n",
    "It's not important to show every feature with every miniscule impact on the readmission risk.  It's fine to focus on only the most important features for that patient."
   ]
  },
  {
   "cell_type": "code",
   "execution_count": 13,
   "id": "d9615688",
   "metadata": {
    "execution": {
     "iopub.execute_input": "2024-09-29T21:57:51.036495Z",
     "iopub.status.busy": "2024-09-29T21:57:51.035541Z",
     "iopub.status.idle": "2024-09-29T21:57:51.042084Z",
     "shell.execute_reply": "2024-09-29T21:57:51.041076Z"
    },
    "papermill": {
     "duration": 0.018733,
     "end_time": "2024-09-29T21:57:51.044285",
     "exception": false,
     "start_time": "2024-09-29T21:57:51.025552",
     "status": "completed"
    },
    "tags": []
   },
   "outputs": [
    {
     "data": {
      "text/markdown": [],
      "text/plain": [
       "<learntools.core.constants.PlaceholderValue at 0x793fe351feb0>"
      ]
     },
     "execution_count": 13,
     "metadata": {},
     "output_type": "execute_result"
    }
   ],
   "source": [
    "# Your Code Here\n",
    "____"
   ]
  },
  {
   "cell_type": "markdown",
   "id": "02437128",
   "metadata": {
    "papermill": {
     "duration": 0.008547,
     "end_time": "2024-09-29T21:57:51.061638",
     "exception": false,
     "start_time": "2024-09-29T21:57:51.053091",
     "status": "completed"
    },
    "tags": []
   },
   "source": [
    "For a hint, uncomment the line below."
   ]
  },
  {
   "cell_type": "code",
   "execution_count": 14,
   "id": "1ce3a3ef",
   "metadata": {
    "execution": {
     "iopub.execute_input": "2024-09-29T21:57:51.080849Z",
     "iopub.status.busy": "2024-09-29T21:57:51.080429Z",
     "iopub.status.idle": "2024-09-29T21:57:51.085735Z",
     "shell.execute_reply": "2024-09-29T21:57:51.084513Z"
    },
    "papermill": {
     "duration": 0.017634,
     "end_time": "2024-09-29T21:57:51.087927",
     "exception": false,
     "start_time": "2024-09-29T21:57:51.070293",
     "status": "completed"
    },
    "tags": []
   },
   "outputs": [],
   "source": [
    "# q_5.hint()"
   ]
  },
  {
   "cell_type": "code",
   "execution_count": 15,
   "id": "aee05045",
   "metadata": {
    "execution": {
     "iopub.execute_input": "2024-09-29T21:57:51.107828Z",
     "iopub.status.busy": "2024-09-29T21:57:51.106767Z",
     "iopub.status.idle": "2024-09-29T21:57:51.116162Z",
     "shell.execute_reply": "2024-09-29T21:57:51.115053Z"
    },
    "papermill": {
     "duration": 0.021531,
     "end_time": "2024-09-29T21:57:51.118280",
     "exception": false,
     "start_time": "2024-09-29T21:57:51.096749",
     "status": "completed"
    },
    "tags": []
   },
   "outputs": [
    {
     "data": {
      "application/javascript": [
       "parent.postMessage({\"jupyterEvent\": \"custom.exercise_interaction\", \"data\": {\"interactionType\": 3, \"questionType\": 4, \"questionId\": \"5_UseShap\", \"learnToolsVersion\": \"0.3.4\", \"valueTowardsCompletion\": 0.0, \"failureMessage\": \"\", \"exceptionClass\": \"\", \"trace\": \"\", \"outcomeType\": 4}}, \"*\")"
      ],
      "text/plain": [
       "<IPython.core.display.Javascript object>"
      ]
     },
     "metadata": {},
     "output_type": "display_data"
    },
    {
     "data": {
      "text/markdown": [
       "<span style=\"color:#33cc99\">Solution:</span> \n",
       "```python\n",
       "\n",
       "# Use SHAP values to show the effect of each feature of a given patient\n",
       "\n",
       "import shap  # package used to calculate Shap values\n",
       "\n",
       "sample_data_for_prediction = val_X.iloc[0].astype(float)  # to test function\n",
       "\n",
       "def patient_risk_factors(model, patient_data):\n",
       "    # Create object that can calculate shap values\n",
       "    explainer = shap.TreeExplainer(model)\n",
       "    shap_values = explainer.shap_values(patient_data)\n",
       "    shap.initjs()\n",
       "    return shap.force_plot(explainer.expected_value[1], shap_values[1], patient_data)\n",
       "\n",
       "\n",
       "```"
      ],
      "text/plain": [
       "Solution: \n",
       "```python\n",
       "\n",
       "# Use SHAP values to show the effect of each feature of a given patient\n",
       "\n",
       "import shap  # package used to calculate Shap values\n",
       "\n",
       "sample_data_for_prediction = val_X.iloc[0].astype(float)  # to test function\n",
       "\n",
       "def patient_risk_factors(model, patient_data):\n",
       "    # Create object that can calculate shap values\n",
       "    explainer = shap.TreeExplainer(model)\n",
       "    shap_values = explainer.shap_values(patient_data)\n",
       "    shap.initjs()\n",
       "    return shap.force_plot(explainer.expected_value[1], shap_values[1], patient_data)\n",
       "\n",
       "\n",
       "```"
      ]
     },
     "metadata": {},
     "output_type": "display_data"
    }
   ],
   "source": [
    "# Check your answer (Run this code cell to receive credit!)\n",
    "q_5.solution()"
   ]
  },
  {
   "cell_type": "markdown",
   "id": "47f9a9f6",
   "metadata": {
    "papermill": {
     "duration": 0.008972,
     "end_time": "2024-09-29T21:57:51.136396",
     "exception": false,
     "start_time": "2024-09-29T21:57:51.127424",
     "status": "completed"
    },
    "tags": []
   },
   "source": [
    "## Keep Going\n",
    "You have some powerful tools to get insights about both models and individual predictions. Next you will look at **[aggregations of SHAP values](https://www.kaggle.com/dansbecker/advanced-uses-of-shap-values)** to link the model-level and prediction-level insights.\n"
   ]
  },
  {
   "cell_type": "markdown",
   "id": "85e6a774",
   "metadata": {
    "papermill": {
     "duration": 0.008764,
     "end_time": "2024-09-29T21:57:51.154499",
     "exception": false,
     "start_time": "2024-09-29T21:57:51.145735",
     "status": "completed"
    },
    "tags": []
   },
   "source": [
    "---\n",
    "\n",
    "\n",
    "\n",
    "\n",
    "*Have questions or comments? Visit the [course discussion forum](https://www.kaggle.com/learn/machine-learning-explainability/discussion) to chat with other learners.*"
   ]
  }
 ],
 "metadata": {
  "kaggle": {
   "accelerator": "none",
   "dataSources": [
    {
     "datasetId": 32736,
     "sourceId": 57051,
     "sourceType": "datasetVersion"
    },
    {
     "datasetId": 52431,
     "sourceId": 98041,
     "sourceType": "datasetVersion"
    },
    {
     "datasetId": 52463,
     "sourceId": 98217,
     "sourceType": "datasetVersion"
    }
   ],
   "isGpuEnabled": false,
   "isInternetEnabled": true,
   "language": "python",
   "sourceType": "notebook"
  },
  "kernelspec": {
   "display_name": "Python 3",
   "language": "python",
   "name": "python3"
  },
  "language_info": {
   "codemirror_mode": {
    "name": "ipython",
    "version": 3
   },
   "file_extension": ".py",
   "mimetype": "text/x-python",
   "name": "python",
   "nbconvert_exporter": "python",
   "pygments_lexer": "ipython3",
   "version": "3.10.14"
  },
  "papermill": {
   "default_parameters": {},
   "duration": 47.38361,
   "end_time": "2024-09-29T21:57:52.788346",
   "environment_variables": {},
   "exception": null,
   "input_path": "__notebook__.ipynb",
   "output_path": "__notebook__.ipynb",
   "parameters": {},
   "start_time": "2024-09-29T21:57:05.404736",
   "version": "2.6.0"
  }
 },
 "nbformat": 4,
 "nbformat_minor": 5
}
